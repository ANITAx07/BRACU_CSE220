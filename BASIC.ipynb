{
 "cells": [
  {
   "cell_type": "code",
   "execution_count": 2,
   "metadata": {},
   "outputs": [],
   "source": [
    "import numpy as np\n"
   ]
  },
  {
   "cell_type": "code",
   "execution_count": 7,
   "metadata": {},
   "outputs": [
    {
     "name": "stdout",
     "output_type": "stream",
     "text": [
      "[1 2 3]\n",
      "[[9. 8. 7.]\n",
      " [6. 5. 4.]]\n"
     ]
    },
    {
     "data": {
      "text/plain": [
       "3"
      ]
     },
     "execution_count": 7,
     "metadata": {},
     "output_type": "execute_result"
    }
   ],
   "source": [
    "a=np.array([1,2,3])\n",
    "b = np.array([[9.0,8.0,7.0],[6.0,5.0,4.0]])\n",
    "print(a)\n",
    "print(b)\n",
    "b.shape #get shape\n",
    "a.dtype # get type\n",
    "a.size # Get number of elements"
   ]
  },
  {
   "cell_type": "code",
   "execution_count": 8,
   "metadata": {},
   "outputs": [
    {
     "name": "stdout",
     "output_type": "stream",
     "text": [
      "[[ 1  2  3  4  5  6  7]\n",
      " [ 8  9 10 11 12 13 14]]\n"
     ]
    },
    {
     "data": {
      "text/plain": [
       "array([ 3, 10])"
      ]
     },
     "execution_count": 8,
     "metadata": {},
     "output_type": "execute_result"
    }
   ],
   "source": [
    "a = np.array([[1,2,3,4,5,6,7],[8,9,10,11,12,13,14]])\n",
    "print(a)\n",
    "a[1, 5] # Get a specific element [r, c]\n",
    "a[0, :] # Get a specific row \n",
    "a[:, 2] # Get a specific column\n",
    "\n"
   ]
  },
  {
   "cell_type": "code",
   "execution_count": 9,
   "metadata": {},
   "outputs": [
    {
     "name": "stdout",
     "output_type": "stream",
     "text": [
      "[[ 1  2  1  4  5  6  7]\n",
      " [ 8  9  2 11 12 20 14]]\n"
     ]
    }
   ],
   "source": [
    "a[1,5] = 20\n",
    "\n",
    "a[:,2] = [1,2]\n",
    "print(a)"
   ]
  },
  {
   "cell_type": "code",
   "execution_count": 10,
   "metadata": {},
   "outputs": [
    {
     "name": "stdout",
     "output_type": "stream",
     "text": [
      "[0. 0. 0. 0. 0.]\n"
     ]
    }
   ],
   "source": [
    "arr=np.zeros(5)\n",
    "print(arr)"
   ]
  },
  {
   "cell_type": "code",
   "execution_count": 11,
   "metadata": {},
   "outputs": [
    {
     "name": "stdout",
     "output_type": "stream",
     "text": [
      "[0 0 0 0 0]\n"
     ]
    }
   ],
   "source": [
    "arr=np.zeros(5, dtype = int)\n",
    "print(arr)"
   ]
  },
  {
   "cell_type": "code",
   "execution_count": 3,
   "metadata": {},
   "outputs": [
    {
     "name": "stdout",
     "output_type": "stream",
     "text": [
      "1\n",
      "2\n",
      "3\n",
      "4\n",
      "5\n"
     ]
    }
   ],
   "source": [
    "#ITERATION\n",
    "x=[1,2,3,4,5]\n",
    "for i in range(len(x)):\n",
    "  print(x[i])"
   ]
  },
  {
   "cell_type": "code",
   "execution_count": 15,
   "metadata": {},
   "outputs": [
    {
     "name": "stdout",
     "output_type": "stream",
     "text": [
      "1\n",
      "2\n",
      "3\n"
     ]
    }
   ],
   "source": [
    "def iteration(array):\n",
    "    for i in range(len(array)):\n",
    "        \n",
    "     print(array[i])\n",
    "\n",
    "a=np.array([1,2,3])\n",
    "iteration(a)\n"
   ]
  },
  {
   "cell_type": "code",
   "execution_count": 13,
   "metadata": {},
   "outputs": [
    {
     "name": "stdout",
     "output_type": "stream",
     "text": [
      "5\n",
      "4\n",
      "3\n",
      "2\n",
      "1\n"
     ]
    }
   ],
   "source": [
    "#REVERSE ITERATION\n",
    "x=[1,2,3,4,5]\n",
    "for i in range(len(x)-1, -1, -1):\n",
    "  print(x[i])"
   ]
  },
  {
   "cell_type": "code",
   "execution_count": 19,
   "metadata": {},
   "outputs": [
    {
     "name": "stdout",
     "output_type": "stream",
     "text": [
      "5\n",
      "4\n",
      "3\n",
      "2\n",
      "1\n"
     ]
    }
   ],
   "source": [
    "def reverse_iteration(array):\n",
    "    for i in range(len(array)-1,-1,-1):\n",
    "        print(array[i])\n",
    "a=np.array([1,2,3,4,5])\n",
    "reverse_iteration(a)"
   ]
  },
  {
   "cell_type": "code",
   "execution_count": 15,
   "metadata": {},
   "outputs": [
    {
     "name": "stdout",
     "output_type": "stream",
     "text": [
      "[1, 2, 3, 4, 5]\n"
     ]
    }
   ],
   "source": [
    "#COPY ARRAY\n",
    "x=[1,2,3,4,5]\n",
    "new=[None]*len(x)\n",
    "#print(new)\n",
    "for i in range(len(x)):\n",
    "  new[i] = x[i]\n",
    "print(new)"
   ]
  },
  {
   "cell_type": "code",
   "execution_count": 5,
   "metadata": {},
   "outputs": [
    {
     "name": "stdout",
     "output_type": "stream",
     "text": [
      "[5, 4, 3, 2, 1]\n"
     ]
    }
   ],
   "source": [
    "#REVERSE ARRAY OUT OF PLACE\n",
    "x=[1,2,3,4,5]\n",
    "rev=[None]*len(x)\n",
    "i=0\n",
    "j=len(x)-1\n",
    "while i < len(x):\n",
    "  rev[i]=x[j]\n",
    "  i += 1\n",
    "  j -= 1\n",
    "print(rev)"
   ]
  },
  {
   "cell_type": "code",
   "execution_count": 2,
   "metadata": {},
   "outputs": [
    {
     "name": "stdout",
     "output_type": "stream",
     "text": [
      "[5, 4, 3, 2, 1]\n"
     ]
    }
   ],
   "source": [
    "#REVERSE ARRAY IN PLACE\n",
    "x=[1,2,3,4,5]\n",
    "i=0\n",
    "j=len(x)-1\n",
    "while i < j:\n",
    "  temp=x[i]\n",
    "  x[i]=x[j]\n",
    "  x[j]=temp\n",
    "  i += 1\n",
    "  j -= 1\n",
    "print(x)"
   ]
  },
  {
   "cell_type": "code",
   "execution_count": 21,
   "metadata": {},
   "outputs": [
    {
     "name": "stdout",
     "output_type": "stream",
     "text": [
      "[0, 1, 2, 3, 4]\n",
      "[0, 1, 2, 3, 4]\n"
     ]
    }
   ],
   "source": [
    "# RIGHT SHIFT\n",
    "\n",
    "#WAY-1\n",
    "a=[1,2,3,4,5]\n",
    "# --> right shift, loss of first val\n",
    "for i in range(len(a)-1,0,-1):\n",
    "  a[i] = a[i-1]\n",
    "a[0] = 0\n",
    "print(a)\n",
    "\n",
    "#WAY-2\n",
    "x=[1,2,3,4,5]\n",
    "#  0 1 2 3 4\n",
    "i=len(x)-1 #last index(4)\n",
    "#     4  \n",
    "while i>0:\n",
    "#   4      4-1=3\n",
    "  x[i] = x[i-1]\n",
    "#   4-1=3\n",
    "  i=i-1\n",
    "x[i] = 0\n",
    "# print(x[i])\n",
    "print(x)"
   ]
  },
  {
   "cell_type": "code",
   "execution_count": 20,
   "metadata": {},
   "outputs": [
    {
     "name": "stdout",
     "output_type": "stream",
     "text": [
      "[5, 1, 2, 3, 4]\n",
      "[5, 1, 2, 3, 4]\n"
     ]
    }
   ],
   "source": [
    "#RIGHT ROTATE\n",
    "\n",
    "#WAY-1\n",
    "a=[1,2,3,4,5]\n",
    "temp=a[len(a)-1]\n",
    "for i in range(len(a)-1,0,-1):\n",
    "  a[i]=a[i-1]\n",
    "a[0]=temp\n",
    "print(a)\n",
    "\n",
    "#WAY-2\n",
    "x=[1,2,3,4,5]\n",
    "#  0 1 2 3 4\n",
    "i=len(x)-1 #last index(4)\n",
    "#     4\n",
    "d=x[i]\n",
    "while i>0:\n",
    "#   4      4-1=3\n",
    "  x[i] = x[i-1]\n",
    "#   4-1=3\n",
    "  i=i-1\n",
    "x[i] = d\n",
    "# print(x[i])\n",
    "print(x)"
   ]
  },
  {
   "cell_type": "code",
   "execution_count": 22,
   "metadata": {},
   "outputs": [
    {
     "name": "stdout",
     "output_type": "stream",
     "text": [
      "[7, 6, 2, 1, 0]\n",
      "[2, 3, 4, 5, 0]\n",
      "[40, 50, 60, 0, 0, 0]\n"
     ]
    }
   ],
   "source": [
    "#LEFT SHIFT\n",
    "\n",
    "#WAY-1\n",
    "a=[5,7,6,2,1]\n",
    "# <--5 left e jay r by default last indx 0 hoy\n",
    "for i in range(len(a)-1):\n",
    "  a[i] = a[i+1]\n",
    "a[len(a)-1] = 0\n",
    "print(a)\n",
    "\n",
    "#WAY-2\n",
    "x=[1,2,3,4,5]\n",
    "#  0 1 2 3 4\n",
    "i=0\n",
    "while (i < len(x)-1):\n",
    "  x[i] = x[i+1]\n",
    "  i = i+1\n",
    "x[i] = 0\n",
    "print(x)\n",
    "\n",
    "#WAY-3\n",
    "def shiftLeft(source,k):\n",
    "  #   0          3\n",
    "  for i in range(k):\n",
    "    #   0           6-1=5\n",
    "    for j in range(len(source)-1):\n",
    "    # source[0]=source[0+1]\n",
    "      source[j]=source[j+1]\n",
    "      # print(source)\n",
    "    source[-1]=0\n",
    "\n",
    "source=[10,20,30,40,50,60]\n",
    "shiftLeft(source,3)\n",
    "print(source)"
   ]
  },
  {
   "cell_type": "code",
   "execution_count": 23,
   "metadata": {},
   "outputs": [
    {
     "name": "stdout",
     "output_type": "stream",
     "text": [
      "[2, 3, 4, 5, 1]\n",
      "[2, 3, 4, 5, 1]\n",
      "[40, 50, 60, 10, 20, 30]\n"
     ]
    }
   ],
   "source": [
    "#LEFT ROTATE\n",
    "\n",
    "#WAY-1\n",
    "x=[1,2,3,4,5]\n",
    "#  0 1 2 3 4\n",
    "i=0\n",
    "d=x[i]\n",
    "while (i < len(x)-1):\n",
    "  x[i] = x[i+1]\n",
    "  i = i+1\n",
    "x[i] = d\n",
    "print(x)\n",
    "\n",
    "#WAY-2\n",
    "a=x=[1,2,3,4,5]\n",
    "# <-- left e rotate hoy and we dont lose the rotated value\n",
    "temp= a[0]\n",
    "for i in range(len(a)-1):\n",
    "  a[i]=a[i+1]\n",
    "a[len(a)-1]=temp\n",
    "print(a)\n",
    "\n",
    "#WAY-3\n",
    "def rotateLeft(source,k):\n",
    "  for i in range(k):\n",
    "      temp=source[0]\n",
    "      for j in range(len(source)-1):\n",
    "            source[j]=source[j+1]\n",
    "            # print(source)\n",
    "      source[-1]=temp\n",
    "\n",
    "source=[10,20,30,40,50,60]\n",
    "rotateLeft(source,3)\n",
    "print(source)"
   ]
  },
  {
   "cell_type": "code",
   "execution_count": null,
   "metadata": {},
   "outputs": [],
   "source": [
    "#STORE\n",
    "def store(array,index,new_val):\n",
    "  for i in range(len(array)-1,index-1,-1):\n",
    "    array[i]=array[i-1]\n",
    "  array[index]=new_val\n",
    "  return array\n",
    "arr=np.array([5,4,6,9,0])\n",
    "new_array=store(arr,1,100)\n",
    "print(new_array)"
   ]
  },
  {
   "cell_type": "code",
   "execution_count": 24,
   "metadata": {},
   "outputs": [
    {
     "name": "stdout",
     "output_type": "stream",
     "text": [
      "[5 4 9 2 0]\n"
     ]
    }
   ],
   "source": [
    "#DELETE\n",
    "def delete (a,x):\n",
    "  for i in range(x, len(a)-1):\n",
    "    a[i]=a[i+1]\n",
    "  a[len(a)-1]=0\n",
    "  return a\n",
    "a=np.array([5,4,6,9,2])\n",
    "new=delete(a,2)\n",
    "print(new)\n"
   ]
  },
  {
   "cell_type": "code",
   "execution_count": 25,
   "metadata": {},
   "outputs": [
    {
     "name": "stdout",
     "output_type": "stream",
     "text": [
      "[10, 30, 50, 60, 0, 0, 0, 0, 0, 0]\n"
     ]
    }
   ],
   "source": [
    "#Remove all occurrences of a particular element from an array\n",
    "def removeAll(source,size,el):\n",
    "  i=0\n",
    "  while i< size:\n",
    "    if source[i]==el:\n",
    "      for j in range(i,len(source)-1):\n",
    "        source[j]=source[j+1]\n",
    "      source[j+1]=0\n",
    "      i-=1\n",
    "    i+=1\n",
    "  print(source)\n",
    "source=[10,2,30,2,50,2,2,60,0,0]\n",
    "removeAll(source,8,2)"
   ]
  },
  {
   "cell_type": "code",
   "execution_count": 2,
   "metadata": {},
   "outputs": [
    {
     "name": "stdout",
     "output_type": "stream",
     "text": [
      "Defaulting to user installation because normal site-packages is not writeable\n",
      "Requirement already satisfied: fhm-unittest in c:\\users\\user\\appdata\\roaming\\python\\python39\\site-packages (1.0.1)\n",
      "Defaulting to user installation because normal site-packages is not writeable\n",
      "Requirement already satisfied: fuzzywuzzy in c:\\users\\user\\appdata\\roaming\\python\\python39\\site-packages (0.18.0)\n"
     ]
    },
    {
     "name": "stderr",
     "output_type": "stream",
     "text": [
      "C:\\Users\\USER\\AppData\\Roaming\\Python\\Python39\\site-packages\\fuzzywuzzy\\fuzz.py:11: UserWarning: Using slow pure-python SequenceMatcher. Install python-Levenshtein to remove this warning\n",
      "  warnings.warn('Using slow pure-python SequenceMatcher. Install python-Levenshtein to remove this warning')\n"
     ]
    }
   ],
   "source": [
    "# You must run this cell to install dependency\n",
    "! pip3 install fhm-unittest\n",
    "! pip3 install fuzzywuzzy\n",
    "import fhm_unittest as unittest\n",
    "import numpy as np"
   ]
  },
  {
   "cell_type": "code",
   "execution_count": 68,
   "metadata": {},
   "outputs": [],
   "source": [
    "#Run this cell\n",
    "class Node:\n",
    "  def __init__(self,elem,next = None):\n",
    "    self.elem,self.next = elem,next\n",
    "\n",
    "def createList(arr):\n",
    "  head = Node(arr[0])\n",
    "  tail = head\n",
    "  for i in range(1,len(arr)):\n",
    "    newNode = Node(arr[i])\n",
    "    tail.next = newNode\n",
    "    tail = newNode\n",
    "  return head\n",
    "\n",
    "def printLinkedList(head):\n",
    "  temp = head\n",
    "  while temp != None:\n",
    "    if temp.next != None:\n",
    "      print(temp.elem, end = '-->')\n",
    "    else:\n",
    "      print(temp.elem)\n",
    "    temp = temp.next\n",
    "  print()"
   ]
  },
  {
   "cell_type": "code",
   "execution_count": 57,
   "metadata": {},
   "outputs": [
    {
     "name": "stdout",
     "output_type": "stream",
     "text": [
      "<__main__.Node object at 0x00000205E9993A00>\n"
     ]
    }
   ],
   "source": [
    "\n",
    "class Node:\n",
    "    def __init__(self,data):\n",
    "        self.data=data\n",
    "        self.next=None\n",
    "node1=Node(10)\n",
    "print(node1) #adress        \n",
    "  "
   ]
  },
  {
   "cell_type": "code",
   "execution_count": 58,
   "metadata": {},
   "outputs": [],
   "source": [
    "#CREATE A LINKED LIST\n",
    "class Node:\n",
    "    def __init__(self,data):\n",
    "        self.data=data\n",
    "        self.next=None\n",
    "class Linkedlist:\n",
    "    def __init__(self):\n",
    "        self.head=None\n",
    "                "
   ]
  },
  {
   "cell_type": "code",
   "execution_count": 71,
   "metadata": {},
   "outputs": [
    {
     "name": "stdout",
     "output_type": "stream",
     "text": [
      "10\n",
      "15\n",
      "34\n",
      "41\n",
      "56\n",
      "72\n",
      "10-->15-->34-->41-->56-->72\n",
      "\n"
     ]
    }
   ],
   "source": [
    "#ITERATION\n",
    "class Node:\n",
    "  def __init__(self,elem,next = None):\n",
    "    self.elem,self.next = elem,next\n",
    "\n",
    "def createList(arr):\n",
    "  head = Node(arr[0])\n",
    "  tail = head\n",
    "  for i in range(1,len(arr)):\n",
    "    newNode = Node(arr[i])\n",
    "    tail.next = newNode\n",
    "    tail = newNode\n",
    "  return head\n",
    "\n",
    "def printLinkedList(head):\n",
    "  temp = head\n",
    "  while temp != None:\n",
    "    if temp.next != None:\n",
    "      print(temp.elem, end = '-->')\n",
    "    else:\n",
    "      print(temp.elem)\n",
    "    temp = temp.next\n",
    "  print()\n",
    "\n",
    "def iteration(head):\n",
    "    temp=head\n",
    "    while temp != None:\n",
    "        print(temp.elem)\n",
    "        temp=temp.next\n",
    "        \n",
    "head = createList(np.array([10,15,34,41,56,72]))  \n",
    "returned_value = iteration(head)\n",
    "printLinkedList(head)      "
   ]
  },
  {
   "cell_type": "code",
   "execution_count": 3,
   "metadata": {},
   "outputs": [
    {
     "name": "stdout",
     "output_type": "stream",
     "text": [
      "6\n",
      "10-->15-->34-->41-->56-->72\n",
      "\n"
     ]
    }
   ],
   "source": [
    "#COUNT\n",
    "class Node:\n",
    "  def __init__(self,elem,next = None):\n",
    "    self.elem,self.next = elem,next\n",
    "\n",
    "def createList(arr):\n",
    "  head = Node(arr[0])\n",
    "  tail = head\n",
    "  for i in range(1,len(arr)):\n",
    "    newNode = Node(arr[i])\n",
    "    tail.next = newNode\n",
    "    tail = newNode\n",
    "  return head\n",
    "\n",
    "def printLinkedList(head):\n",
    "  temp = head\n",
    "  while temp != None:\n",
    "    if temp.next != None:\n",
    "      print(temp.elem, end = '-->')\n",
    "    else:\n",
    "      print(temp.elem)\n",
    "    temp = temp.next\n",
    "  print()\n",
    "\n",
    "def count(head):\n",
    "    count=0\n",
    "    temp=head\n",
    "    while temp != None:\n",
    "        count+=1\n",
    "        temp=temp.next\n",
    "    return count  \n",
    "head = createList(np.array([10,15,34,41,56,72]))  \n",
    "returned_value = count(head)\n",
    "print(returned_value)\n",
    "printLinkedList(head)        "
   ]
  },
  {
   "cell_type": "code",
   "execution_count": 75,
   "metadata": {},
   "outputs": [
    {
     "name": "stdout",
     "output_type": "stream",
     "text": [
      "56\n",
      "10-->15-->34-->41-->56-->72\n",
      "\n"
     ]
    }
   ],
   "source": [
    "#getting element of an specific index\n",
    "class Node:\n",
    "  def __init__(self,elem,next = None):\n",
    "    self.elem,self.next = elem,next\n",
    "\n",
    "def createList(arr):\n",
    "  head = Node(arr[0])\n",
    "  tail = head\n",
    "  for i in range(1,len(arr)):\n",
    "    newNode = Node(arr[i])\n",
    "    tail.next = newNode\n",
    "    tail = newNode\n",
    "  return head\n",
    "\n",
    "def printLinkedList(head):\n",
    "  temp = head\n",
    "  while temp != None:\n",
    "    if temp.next != None:\n",
    "      print(temp.elem, end = '-->')\n",
    "    else:\n",
    "      print(temp.elem)\n",
    "    temp = temp.next\n",
    "  print()\n",
    "\n",
    "def elemAT(head,idx):\n",
    "    count=0\n",
    "    temp=head\n",
    "    obj=None\n",
    "    while temp != None:\n",
    "        if count == idx:\n",
    "            obj=temp.elem\n",
    "            break\n",
    "        temp=temp.next\n",
    "        count+=1\n",
    "    if obj == None:\n",
    "        print(\"invalid index\")\n",
    "    return obj   \n",
    "    \n",
    "head = createList(np.array([10,15,34,41,56,72]))  \n",
    "returned_value = elemAT(head,4)\n",
    "print(returned_value)\n",
    "printLinkedList(head)             "
   ]
  },
  {
   "cell_type": "code",
   "execution_count": 77,
   "metadata": {},
   "outputs": [
    {
     "name": "stdout",
     "output_type": "stream",
     "text": [
      "None\n",
      "10-->15-->34-->41-->65-->72\n",
      "\n"
     ]
    }
   ],
   "source": [
    "#setting new element of an specific index\n",
    "class Node:\n",
    "  def __init__(self,elem,next = None):\n",
    "    self.elem,self.next = elem,next\n",
    "\n",
    "def createList(arr):\n",
    "  head = Node(arr[0])\n",
    "  tail = head\n",
    "  for i in range(1,len(arr)):\n",
    "    newNode = Node(arr[i])\n",
    "    tail.next = newNode\n",
    "    tail = newNode\n",
    "  return head\n",
    "\n",
    "def printLinkedList(head):\n",
    "  temp = head\n",
    "  while temp != None:\n",
    "    if temp.next != None:\n",
    "      print(temp.elem, end = '-->')\n",
    "    else:\n",
    "      print(temp.elem)\n",
    "    temp = temp.next\n",
    "  print()\n",
    "\n",
    "def set(head,idx,elem):\n",
    "    count=0\n",
    "    temp=head\n",
    "    x=False\n",
    "    while temp != None:\n",
    "      if count==idx:\n",
    "        temp.elem=elem #temp.elem diye node acces kore\n",
    "        x=True\n",
    "        break\n",
    "      temp=temp.next  #temp.next diye next node indicate kore\n",
    "      count+=1  \n",
    "\n",
    "head = createList(np.array([10,15,34,41,56,72]))  \n",
    "returned_value = set(head,4,65)\n",
    "print(returned_value)\n",
    "printLinkedList(head)     "
   ]
  },
  {
   "cell_type": "code",
   "execution_count": 94,
   "metadata": {},
   "outputs": [
    {
     "name": "stdout",
     "output_type": "stream",
     "text": [
      "True\n",
      "10-->15-->34-->41-->56-->72\n",
      "\n"
     ]
    }
   ],
   "source": [
    "#Searching an element in the list:\n",
    "class Node:\n",
    "  def __init__(self,elem,next = None):\n",
    "    self.elem,self.next = elem,next\n",
    "\n",
    "def createList(arr):\n",
    "  head = Node(arr[0])\n",
    "  tail = head\n",
    "  for i in range(1,len(arr)):\n",
    "    newNode = Node(arr[i])\n",
    "    tail.next = newNode\n",
    "    tail = newNode\n",
    "  return head\n",
    "\n",
    "def printLinkedList(head):\n",
    "  temp = head\n",
    "  while temp != None:\n",
    "    if temp.next != None:\n",
    "      print(temp.elem, end = '-->')\n",
    "    else:\n",
    "      print(temp.elem)\n",
    "    temp = temp.next\n",
    "  print()\n",
    "\n",
    "def index(head,elem):\n",
    "    count=0\n",
    "    temp=head\n",
    "    while temp != None:\n",
    "        if temp.elem == elem:\n",
    "           return True\n",
    "        count += 1\n",
    "        temp=temp.next \n",
    "    return False     \n",
    "\n",
    "head = createList(np.array([10,15,34,41,56,72]))  \n",
    "returned_value = index(head,72)\n",
    "print(returned_value)\n",
    "printLinkedList(head)   "
   ]
  },
  {
   "attachments": {},
   "cell_type": "markdown",
   "metadata": {},
   "source": [
    "**we need to remember that if the head pointing None then the linked list is empty.if it contains any value then it is not empty. if linked list is empty then print \"empty\".Now check if the linked list is empty or not. if its not empty then print data in that node.**"
   ]
  },
  {
   "cell_type": "markdown",
   "metadata": {},
   "source": [
    "**add node in the beginning of the linked list**"
   ]
  },
  {
   "cell_type": "code",
   "execution_count": 1,
   "metadata": {},
   "outputs": [],
   "source": [
    "import numpy as np"
   ]
  },
  {
   "cell_type": "code",
   "execution_count": 2,
   "metadata": {},
   "outputs": [],
   "source": [
    "def printArray(givenArray):\n",
    "  rows, columns = givenArray.shape\n",
    "  for row in range(rows):\n",
    "    for column in range(columns):\n",
    "      print (givenArray[row][column], end = \" \")\n",
    "    print()"
   ]
  },
  {
   "cell_type": "code",
   "execution_count": null,
   "metadata": {},
   "outputs": [],
   "source": [
    "a=[1,2,3,4,5]\n",
    "temp=a[len(a)-1]\n",
    "for i in range(len(a)-1,0,-1):\n",
    "  a[i]=a[i-1]\n",
    "a[0]=temp\n",
    "print(a)"
   ]
  },
  {
   "cell_type": "code",
   "execution_count": 21,
   "metadata": {},
   "outputs": [
    {
     "name": "stdout",
     "output_type": "stream",
     "text": [
      "Original Array\n",
      "A C G G \n",
      "T G A A \n",
      "G G A C \n",
      "C T G A \n",
      "=====================\n",
      "After Synthesizing\n",
      "G A C G \n",
      "A T G A \n",
      "C G G A \n",
      "A C T G \n",
      "=====================\n",
      "Original Array\n",
      "A C G G \n",
      "T G A A \n",
      "A G A C \n",
      "A T G A \n",
      "=====================\n",
      "After Synthesizing\n",
      "G A C G \n",
      "A T G A \n",
      "C A G A \n",
      "A A T G \n",
      "=====================\n"
     ]
    }
   ],
   "source": [
    "def synthesize_sequence(given_sequence):\n",
    "    rows, columns = given_sequence.shape\n",
    "    for i in range(rows):\n",
    "      temp=given_sequence[i][len(given_sequence[i])-1]\n",
    "      for j in range(len(given_sequence[i])-1,0,-1):\n",
    "        given_sequence[i][j]=given_sequence[i][j-1]\n",
    "      given_sequence[i][0]=temp\n",
    "    return given_sequence\n",
    "\n",
    "given_sequence = np.array([['A', 'C', 'G', 'G'],['T', 'G', 'A', 'A'], ['G', 'G', 'A', 'C'], ['C', 'T', 'G', 'A']])\n",
    "print(\"Original Array\")\n",
    "printArray(given_sequence)\n",
    "print(\"=====================\")\n",
    "synthesizedArray1 = synthesize_sequence(given_sequence)\n",
    "print(\"After Synthesizing\")\n",
    "printArray(synthesizedArray1)\n",
    "print(\"=====================\")\n",
    "\n",
    "given_sequence = np.array([['A', 'C', 'G', 'G'], ['T', 'G', 'A', 'A'], ['A', 'G', 'A', 'C'],['A', 'T', 'G', 'A']])\n",
    "print(\"Original Array\")\n",
    "printArray(given_sequence)\n",
    "print(\"=====================\")\n",
    "synthesizedArray2 = synthesize_sequence(given_sequence)\n",
    "print(\"After Synthesizing\")\n",
    "printArray(synthesizedArray2)\n",
    "print(\"=====================\")    \n"
   ]
  },
  {
   "cell_type": "code",
   "execution_count": 1,
   "metadata": {},
   "outputs": [],
   "source": [
    "class Node:\n",
    "    def __init__(self, next=None, prev=None, data=None):\n",
    "        self.next = next\n",
    "        self.prev = prev\n",
    "        self.data = data"
   ]
  },
  {
   "cell_type": "code",
   "execution_count": 2,
   "metadata": {},
   "outputs": [],
   "source": [
    "# Adding a node at the front of the list\n",
    "def push(self, new_data):\n",
    "    new_node = Node(data=new_data)\n",
    "    new_node.next = self.head\n",
    "    new_node.prev = None\n",
    "\n",
    "    if self.head is not None:\n",
    "        self.head.prev = new_node\n",
    "    self.head = new_node"
   ]
  },
  {
   "cell_type": "code",
   "execution_count": null,
   "metadata": {},
   "outputs": [],
   "source": [
    "# new node after the given node\n",
    " \n",
    " \n",
    "def insertAfter(self, prev_node, new_data):\n",
    "    if prev_node is None:\n",
    "        print(\"This node doesn't exist in DLL\")\n",
    "        return\n",
    "    new_node = Node(data=new_data)\n",
    "    new_node.next = prev_node.next\n",
    "    prev_node.next = new_node\n",
    "    new_node.prev = prev_node\n",
    "    if new_node.next is not None:\n",
    "        new_node.next.prev = new_node"
   ]
  }
 ],
 "metadata": {
  "kernelspec": {
   "display_name": "base",
   "language": "python",
   "name": "python3"
  },
  "language_info": {
   "codemirror_mode": {
    "name": "ipython",
    "version": 3
   },
   "file_extension": ".py",
   "mimetype": "text/x-python",
   "name": "python",
   "nbconvert_exporter": "python",
   "pygments_lexer": "ipython3",
   "version": "3.9.12"
  },
  "orig_nbformat": 4
 },
 "nbformat": 4,
 "nbformat_minor": 2
}
