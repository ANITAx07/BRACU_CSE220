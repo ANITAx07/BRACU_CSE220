{
 "cells": [
  {
   "cell_type": "code",
   "execution_count": 1,
   "metadata": {},
   "outputs": [
    {
     "name": "stdout",
     "output_type": "stream",
     "text": [
      "Defaulting to user installation because normal site-packages is not writeable\n",
      "Requirement already satisfied: fhm-unittest in c:\\users\\user\\appdata\\roaming\\python\\python39\\site-packages (1.0.1)\n",
      "Defaulting to user installation because normal site-packages is not writeable\n",
      "Requirement already satisfied: fuzzywuzzy in c:\\users\\user\\appdata\\roaming\\python\\python39\\site-packages (0.18.0)\n"
     ]
    },
    {
     "name": "stderr",
     "output_type": "stream",
     "text": [
      "C:\\Users\\USER\\AppData\\Roaming\\Python\\Python39\\site-packages\\fuzzywuzzy\\fuzz.py:11: UserWarning: Using slow pure-python SequenceMatcher. Install python-Levenshtein to remove this warning\n",
      "  warnings.warn('Using slow pure-python SequenceMatcher. Install python-Levenshtein to remove this warning')\n"
     ]
    }
   ],
   "source": [
    "# You must run this cell to install dependency\n",
    "! pip3 install fhm-unittest\n",
    "! pip3 install fuzzywuzzy\n",
    "import fhm_unittest as unittest\n",
    "import numpy as np"
   ]
  },
  {
   "cell_type": "code",
   "execution_count": 2,
   "metadata": {},
   "outputs": [],
   "source": [
    "#Run this cell\n",
    "class Node:\n",
    "  def __init__(self,elem,next = None):\n",
    "    self.elem,self.next = elem,next\n",
    "\n",
    "def createList(arr):\n",
    "  head = Node(arr[0])\n",
    "  tail = head\n",
    "  for i in range(1,len(arr)):\n",
    "    newNode = Node(arr[i])\n",
    "    tail.next = newNode\n",
    "    tail = newNode\n",
    "  return head\n",
    "\n",
    "def printLinkedList(head):\n",
    "  temp = head\n",
    "  while temp != None:\n",
    "    if temp.next != None:\n",
    "      print(temp.elem, end = '-->')\n",
    "    else:\n",
    "      print(temp.elem)\n",
    "    temp = temp.next\n",
    "  print()"
   ]
  },
  {
   "cell_type": "code",
   "execution_count": 3,
   "metadata": {},
   "outputs": [
    {
     "name": "stdout",
     "output_type": "stream",
     "text": [
      "6\n",
      "10-->15-->34-->41-->56-->72\n",
      "\n"
     ]
    }
   ],
   "source": [
    "#count\n",
    "def count(head):\n",
    "    count=0\n",
    "    temp=head\n",
    "    while temp != None:\n",
    "        count+=1\n",
    "        temp=temp.next\n",
    "    return count    \n",
    "\n",
    "head = createList(np.array([10,15,34,41,56,72]))  \n",
    "returned_value = count(head)\n",
    "print(returned_value)\n",
    "printLinkedList(head)  "
   ]
  },
  {
   "cell_type": "code",
   "execution_count": 4,
   "metadata": {},
   "outputs": [
    {
     "name": "stdout",
     "output_type": "stream",
     "text": [
      "10\n",
      "15\n",
      "34\n",
      "41\n",
      "56\n",
      "72\n",
      "None\n",
      "10-->15-->34-->41-->56-->72\n",
      "\n"
     ]
    }
   ],
   "source": [
    "#iteration\n",
    "def iterate(head):\n",
    "   temp=head\n",
    "   while temp!=None:\n",
    "    print(temp.elem)\n",
    "    temp=temp.next\n",
    "head = createList(np.array([10,15,34,41,56,72]))  \n",
    "returned_value = iterate(head)\n",
    "print(returned_value)\n",
    "printLinkedList(head)      "
   ]
  },
  {
   "cell_type": "code",
   "execution_count": 5,
   "metadata": {},
   "outputs": [
    {
     "name": "stdout",
     "output_type": "stream",
     "text": [
      "41\n",
      "10-->15-->34-->41-->56-->72\n",
      "\n"
     ]
    }
   ],
   "source": [
    "#getting elem of a specific idx\n",
    "def NodeAT(head,idx):\n",
    "  count=0\n",
    "  temp=head\n",
    "  x=False\n",
    "  while temp.next!=None:\n",
    "     if count==idx:\n",
    "        x=True\n",
    "        return temp.elem\n",
    "     count+=1\n",
    "     temp=temp.next \n",
    "  return False    \n",
    "\n",
    "head = createList(np.array([10,15,34,41,56,72]))  \n",
    "returned_value = NodeAT(head,3)\n",
    "print(returned_value)\n",
    "printLinkedList(head)  "
   ]
  },
  {
   "cell_type": "code",
   "execution_count": 6,
   "metadata": {},
   "outputs": [
    {
     "name": "stdout",
     "output_type": "stream",
     "text": [
      "<__main__.Node object at 0x0000021CE4E2E970>\n",
      "10-->15-->34-->14-->56-->72\n",
      "\n"
     ]
    }
   ],
   "source": [
    "#setting new element of an specific index\n",
    "def set(head,elem,idx):\n",
    "    \n",
    "    temp=head \n",
    "    count=0 \n",
    "    \n",
    "    while temp != None:\n",
    "        if count == idx:\n",
    "            temp.elem=elem\n",
    "            break\n",
    "        count+=1\n",
    "        temp=temp.next \n",
    "    return temp.next      \n",
    "\n",
    "\n",
    "head = createList(np.array([10,15,34,41,56,72]))  \n",
    "returned_value = set(head,14,3)\n",
    "print(returned_value)\n",
    "printLinkedList(head)  "
   ]
  },
  {
   "cell_type": "code",
   "execution_count": 7,
   "metadata": {},
   "outputs": [
    {
     "name": "stdout",
     "output_type": "stream",
     "text": [
      "5\n",
      "10-->15-->34-->41-->56-->72\n",
      "\n"
     ]
    }
   ],
   "source": [
    "#Searching an element in the list:\n",
    "def index(head,elem):\n",
    "    temp=head\n",
    "    count=0\n",
    "    x=False\n",
    "    while temp!=None:\n",
    "        if temp.elem == elem:\n",
    "            x=True\n",
    "            return count\n",
    "        count+=1\n",
    "        temp=temp.next\n",
    "    return False    \n",
    " \n",
    "head = createList(np.array([10,15,34,41,56,72]))  \n",
    "returned_value = index(head,72)\n",
    "print(returned_value)\n",
    "printLinkedList(head)   "
   ]
  },
  {
   "cell_type": "code",
   "execution_count": 8,
   "metadata": {},
   "outputs": [
    {
     "name": "stdout",
     "output_type": "stream",
     "text": [
      "72-->10\n",
      "\n"
     ]
    }
   ],
   "source": [
    "class Node:\n",
    "  def __init__(self,elem,next = None):\n",
    "    self.elem,self.next = elem,next\n",
    "\n",
    "def reverse_out_of_place(head):\n",
    "    new_node=Node(head.elem,None)\n",
    "    temp=head.next\n",
    "    while temp!=None:\n",
    "        n=Node(temp.elem,new_node)\n",
    "        new_head=n\n",
    "        temp=temp.next\n",
    "    return new_head    \n",
    "head = createList(np.array([10,15,34,41,56,72]))  \n",
    "returned_value = reverse_out_of_place(head)\n",
    "#print(returned_value)\n",
    "printLinkedList(returned_value)   "
   ]
  },
  {
   "cell_type": "code",
   "execution_count": 19,
   "metadata": {},
   "outputs": [
    {
     "name": "stdout",
     "output_type": "stream",
     "text": [
      "<__main__.Node object at 0x0000021CE51817F0>\n"
     ]
    }
   ],
   "source": [
    "def reverse(head):\n",
    "    prev=None\n",
    "    temp=head\n",
    "    temp2=head.next\n",
    "    while temp!=None:\n",
    "        temp2=temp.next\n",
    "        temp.next=prev\n",
    "        prev=temp\n",
    "        temp=temp2\n",
    "    head=prev\n",
    "    print(head) \n",
    "    return head \n",
    "    print(head)    \n",
    "head = createList(np.array([10,15,34,41,56,72]))  \n",
    "returned_value = reverse(head) \n",
    "#print(returned_value) "
   ]
  },
  {
   "cell_type": "code",
   "execution_count": 34,
   "metadata": {},
   "outputs": [
    {
     "name": "stdout",
     "output_type": "stream",
     "text": [
      "72\n",
      "56\n",
      "41\n",
      "34\n",
      "15\n",
      "10\n"
     ]
    }
   ],
   "source": [
    "def iteration(head):\n",
    "  temp = head\n",
    "  while temp != None:\n",
    "    print(temp.elem)\n",
    "    temp = temp.next\n",
    "\n",
    "def reverse(head):\n",
    "    prev=None\n",
    "    temp=head\n",
    "    temp2=head.next\n",
    "    while temp!=None:\n",
    "        temp2=temp.next\n",
    "        temp.next=prev\n",
    "        prev=temp\n",
    "        temp=temp2\n",
    "    head=prev\n",
    "    return head \n",
    "head = createList(np.array([10,15,34,41,56,72]))  \n",
    "returned_value = reverse(head) \n",
    "iteration(returned_value)"
   ]
  },
  {
   "cell_type": "code",
   "execution_count": 38,
   "metadata": {},
   "outputs": [
    {
     "name": "stdout",
     "output_type": "stream",
     "text": [
      "<__main__.Node object at 0x0000021CE4F17520>\n"
     ]
    }
   ],
   "source": [
    "def reverse(head):\n",
    "    prev=None\n",
    "    temp=head\n",
    "    nxt=head.next\n",
    "    while temp!=None:\n",
    "        nxt=temp.next\n",
    "        temp.next=prev\n",
    "        prev=temp\n",
    "        temp=nxt\n",
    "    head=prev\n",
    "    return head\n",
    "head = createList(np.array([10,15,34,41,56,72]))  \n",
    "returned_value = reverse(head)     \n",
    "print(returned_value)    "
   ]
  },
  {
   "cell_type": "code",
   "execution_count": 32,
   "metadata": {},
   "outputs": [],
   "source": [
    "def reverse_in_place(head):\n",
    "    new_head=None\n",
    "    temp=head\n",
    "    while temp!=None:\n",
    "        n=temp.next\n",
    "        temp.next=new_head\n",
    "        new_head=temp\n",
    "        temp=n\n",
    "    head=new_head   \n",
    "    return new_head\n",
    "head = createList(np.array([10,15,34,41,56,72]))  \n",
    "returned_value = reverse_in_place(head)  \n",
    "#print(returned_value)   \n",
    "   "
   ]
  },
  {
   "cell_type": "code",
   "execution_count": 12,
   "metadata": {},
   "outputs": [
    {
     "name": "stdout",
     "output_type": "stream",
     "text": [
      "<__main__.Node object at 0x0000021CE4E3BB80>\n",
      "72-->15-->34-->41-->56-->72\n",
      "\n"
     ]
    }
   ],
   "source": [
    "def AddBegin(head,elem):\n",
    "    temp=head\n",
    "    new=elem\n",
    "    head.elem=new\n",
    "    return head\n",
    "  \n",
    "head = createList(np.array([10,15,34,41,56,72]))  \n",
    "returned_value = AddBegin(head,72)\n",
    "print(returned_value)\n",
    "printLinkedList(head)   "
   ]
  },
  {
   "cell_type": "code",
   "execution_count": 13,
   "metadata": {},
   "outputs": [
    {
     "name": "stdout",
     "output_type": "stream",
     "text": [
      "<__main__.Node object at 0x0000021CE4E2E730>\n",
      "10-->15-->34-->72-->56-->72\n",
      "\n"
     ]
    }
   ],
   "source": [
    "def AddMid(head,elem,idx):\n",
    "    temp=head\n",
    "    count=0\n",
    "    x=False\n",
    "    while temp!=None:\n",
    "        if count == idx :\n",
    "            temp.elem=elem\n",
    "            x=True\n",
    "            return head\n",
    "        count+=1\n",
    "        temp=temp.next\n",
    "    return False        \n",
    "\n",
    "head = createList(np.array([10,15,34,41,56,72]))  \n",
    "returned_value = AddMid(head,72,3)\n",
    "print(returned_value)\n",
    "printLinkedList(head)  "
   ]
  },
  {
   "cell_type": "code",
   "execution_count": 14,
   "metadata": {},
   "outputs": [
    {
     "name": "stdout",
     "output_type": "stream",
     "text": [
      "10-->15-->34-->41-->56-->72\n",
      "\n"
     ]
    }
   ],
   "source": [
    "def AddLast(head,elem):\n",
    "   temp=head   \n",
    "   x=False  \n",
    "   n=count(head)\n",
    "   while n:\n",
    "      if temp.next is None:\n",
    "         temp.next.elem=elem\n",
    "         return head\n",
    "      break\n",
    "   return head\n",
    "       \n",
    "\n",
    "\n",
    "\n",
    "   \n",
    "head = createList(np.array([10,15,34,41,56,72]))  \n",
    "returned = AddLast(head,7)\n",
    "#print(returned_value)\n",
    "printLinkedList(returned) "
   ]
  },
  {
   "cell_type": "code",
   "execution_count": 15,
   "metadata": {},
   "outputs": [
    {
     "name": "stdout",
     "output_type": "stream",
     "text": [
      "<__main__.Node object at 0x0000021CE4E2E280>\n",
      "10-->15-->34-->56-->72\n",
      "\n"
     ]
    }
   ],
   "source": [
    "def remove(head,idx):\n",
    "    temp=head\n",
    "    count=0\n",
    "    while temp!=None:\n",
    "        if count==idx:\n",
    "            temp.next=temp.next.next\n",
    "            return head\n",
    "        count+=1    \n",
    "        temp=temp.next\n",
    "            \n",
    "\n",
    "head = createList(np.array([10,15,34,41,56,72]))  \n",
    "returned_value = remove(head,2)\n",
    "print(returned_value)\n",
    "printLinkedList(head) "
   ]
  },
  {
   "cell_type": "code",
   "execution_count": 28,
   "metadata": {},
   "outputs": [
    {
     "name": "stdout",
     "output_type": "stream",
     "text": [
      "10\n",
      "\n"
     ]
    }
   ],
   "source": [
    "def rotate_left(head):\n",
    "    new=head.next\n",
    "    temp=new\n",
    "    while temp.next!=None:\n",
    "        temp=temp.next\n",
    "    temp.next=head\n",
    "    head.next=None\n",
    "    head=new\n",
    "    return head\n",
    "head = createList(np.array([10,15,34,41,56,72]))  \n",
    "returned_value = rotate_left(head)\n",
    "#print(returned_value)\n",
    "printLinkedList(head) "
   ]
  },
  {
   "cell_type": "code",
   "execution_count": null,
   "metadata": {},
   "outputs": [],
   "source": [
    "# You must run this cell to install dependency\n",
    "! pip3 install fhm-unittest\n",
    "! pip3 install fuzzywuzzy\n",
    "import fhm_unittest as unittest\n",
    "import numpy as np"
   ]
  },
  {
   "cell_type": "code",
   "execution_count": null,
   "metadata": {},
   "outputs": [],
   "source": [
    "#Run this cell\n",
    "class Node:\n",
    "  def __init__(self,elem,next = None):\n",
    "    self.elem,self.next = elem,next\n",
    "\n",
    "def createList(arr):\n",
    "  head = Node(arr[0])\n",
    "  tail = head\n",
    "  for i in range(1,len(arr)):\n",
    "    newNode = Node(arr[i])\n",
    "    tail.next = newNode\n",
    "    tail = newNode\n",
    "  return head\n",
    "\n",
    "def printLinkedList(head):\n",
    "  temp = head\n",
    "  while temp != None:\n",
    "    if temp.next != None:\n",
    "      print(temp.elem, end = '-->')\n",
    "    else:\n",
    "      print(temp.elem)\n",
    "    temp = temp.next\n",
    "  print()"
   ]
  },
  {
   "cell_type": "code",
   "execution_count": 25,
   "metadata": {},
   "outputs": [
    {
     "name": "stdout",
     "output_type": "stream",
     "text": [
      "Original Compartment Sequence:  10-->15-->34-->41-->56-->72\n",
      "\n",
      "Changed Compartment Sequence:  \n",
      "\n",
      "Original Compartment Sequence:  10-->15-->34-->41-->56-->72\n",
      "\n",
      "Changed Compartment Sequence:  10-->15-->34-->41-->56-->72\n",
      "\n",
      "\n",
      "Original Compartment Sequence:  10-->15-->34-->41-->56-->72\n",
      "\n",
      "Changed Compartment Sequence:  10-->15-->34-->41-->56-->72\n",
      "\n",
      "\n"
     ]
    }
   ],
   "source": [
    "def count_node(head):\n",
    "    count=0\n",
    "    temp=head\n",
    "    while temp != None:\n",
    "        count+=1\n",
    "        temp=temp.next\n",
    "    return count   \n",
    "def reverse(head):\n",
    "    prev=None\n",
    "    temp=head\n",
    "    temp2=head.next\n",
    "    while temp!=None:\n",
    "        temp2=temp.next\n",
    "        temp.next=prev\n",
    "        prev=temp\n",
    "        temp=temp2\n",
    "    head=prev\n",
    "    return head \n",
    "  \n",
    "\n",
    "def remove_compartment(head,n):\n",
    "  #To DO\n",
    "  l=count_node(head)\n",
    "  len_node=l-n\n",
    "  #print(len_node)\n",
    "  if len_node<=0:\n",
    "     return head\n",
    "  else:\n",
    "     count=0\n",
    "     temp=head  \n",
    "     while temp.next != None:\n",
    "        if count == len_node:\n",
    "           t.next=temp.next.next\n",
    "        count+=1  \n",
    "        t=temp  \n",
    "        temp=temp.next\n",
    "\n",
    "     \n",
    "\n",
    "\n",
    "\n",
    "\n",
    "head = createList(np.array([10,15,34,41,56,72]))\n",
    "print('Original Compartment Sequence: ', end = ' ')\n",
    "printLinkedList(head)\n",
    "head = remove_compartment(head,2)\n",
    "print('Changed Compartment Sequence: ', end = ' ')\n",
    "printLinkedList(head) #This should print 10-->15-->34-->41-->72\n",
    "print()\n",
    "\n",
    "head = createList(np.array([10,15,34,41,56,72]))\n",
    "print('Original Compartment Sequence: ', end = ' ')\n",
    "printLinkedList(head)\n",
    "head = remove_compartment(head,7)\n",
    "print('Changed Compartment Sequence: ', end = ' ')\n",
    "printLinkedList(head) #This should print 10-->15-->34-->41-->56-->72\n",
    "print()\n",
    "\n",
    "head = createList(np.array([10,15,34,41,56,72]))\n",
    "print('Original Compartment Sequence: ', end = ' ')\n",
    "printLinkedList(head)\n",
    "head = remove_compartment(head,6)\n",
    "print('Changed Compartment Sequence: ', end = ' ')\n",
    "printLinkedList(head) #This should print 15-->34-->41-->56-->72\n",
    "print()"
   ]
  },
  {
   "cell_type": "code",
   "execution_count": 26,
   "metadata": {},
   "outputs": [],
   "source": [
    "def shuffle_on_index(head):\n",
    "\n",
    "    count=0\n",
    "    even_head=head\n",
    "    temp_even=even_head\n",
    "    odd_head=head.next\n",
    "    temp_odd=odd_head\n",
    "    temp=odd_head.next\n",
    "    \n",
    "    while temp!=None:\n",
    "      if count%2==0:\n",
    "        n=Node(temp.elem,None)\n",
    "        temp_even.next=n\n",
    "        temp_even=n\n",
    "\n",
    "      else:\n",
    "        n=Node(temp.elem,None)\n",
    "        temp_odd.next=n\n",
    "        temp_odd=n\n",
    "      temp=temp.next\n",
    "      count+=1\n",
    "    temp2=even_head\n",
    "    while temp2.next!=None:\n",
    "      temp2=temp2.next\n",
    "    temp2.next=odd_head\n",
    "    return even_head"
   ]
  },
  {
   "cell_type": "code",
   "execution_count": null,
   "metadata": {},
   "outputs": [],
   "source": [
    "def find_next_clue(head):\n",
    "  first=head\n",
    "  last=head.next\n",
    "  while last.next!=None:\n",
    "\n",
    "    if last.elem<first.elem:\n",
    "      temp=last\n",
    "      while temp.next!=None:\n",
    "        if first.elem>temp.elem:\n",
    "          temp=temp.next\n",
    "          if last.elem<temp.elem:\n",
    "            print(f'{temp.elem} is greater than {last.elem}')\n",
    "          else:\n",
    "            print(f'No next element is greater than {first.elem}')\n",
    "\n",
    "      temp2=first\n",
    "      while temp2!=None:\n",
    "       if last.elem>temp2.elem:\n",
    "        if last.next==None:\n",
    "          print(f'No next element greater than {last.elem}')\n",
    "        else:\n",
    "          print(f'{last.elem} is greater than {temp2.elem}')\n",
    "       temp2=temp2.next\n",
    "\n",
    "\n",
    "          #print(f'{temp.elem} is greater than {first.elem}')\n",
    "\n",
    "\n",
    "\n",
    "\n",
    "\n",
    "    elif last.elem>first.elem:\n",
    "      print(f'{last.elem} is greater than {first.elem}')\n",
    "\n",
    "\n",
    "    first=first.next\n",
    "    last=last.next\n",
    "    #print(n)"
   ]
  },
  {
   "cell_type": "code",
   "execution_count": null,
   "metadata": {},
   "outputs": [
    {
     "name": "stdout",
     "output_type": "stream",
     "text": [
      "Original Compartment Sequence:  10-->15-->34-->41-->56-->72\n",
      "\n",
      "Changed Compartment Sequence:  10-->15-->34-->41-->72\n",
      "\n",
      "\n",
      "Original Compartment Sequence:  10-->15-->34-->41-->56-->72\n",
      "\n",
      "Changed Compartment Sequence:  10-->15-->34-->41-->56-->72\n",
      "\n",
      "\n",
      "Original Compartment Sequence:  10-->15-->34-->41-->56-->72\n",
      "\n",
      "Changed Compartment Sequence:  15-->34-->41-->56-->72\n",
      "\n",
      "\n"
     ]
    }
   ],
   "source": [
    "def count(head):\n",
    "  temp=head\n",
    "  count=0\n",
    "  while temp!=None:\n",
    "    count+=1\n",
    "    temp=temp.next\n",
    "  return count\n",
    "\n",
    "def reverse_out_of_place(head):\n",
    "  new_head=Node(head.elem,None)\n",
    "  temp=head.next\n",
    "  while temp!=None:\n",
    "    n=Node(temp.elem,new_head)         \n",
    "    new_head=n\n",
    "    temp=temp.next\n",
    "\n",
    "  return new_head\n",
    "\n",
    "def nodeAt(head,idx):\n",
    "  count=1\n",
    "  temp=head\n",
    "  obj=None\n",
    "  while temp!=None:\n",
    "    if count==idx:\n",
    "      obj=temp\n",
    "      break\n",
    "    count+=1\n",
    "    temp=temp.next\n",
    "\n",
    "  if obj==None:\n",
    "    return 'Invalid index'\n",
    "  else:\n",
    "    return obj\n",
    "    \n",
    "def remove_compartment(head,n):\n",
    "  new_head=reverse_out_of_place(head)\n",
    "  total_nodes=count(new_head)\n",
    "  if n==1:\n",
    "    new_head=new_head.next\n",
    "    return reverse_out_of_place(new_head)\n",
    "  elif n>1 and n<total_nodes:\n",
    "    n1=nodeAt(new_head,n-1) #72 56 41 34 15 10, 2-1=1\n",
    "    n2=nodeAt(new_head,n+1)\n",
    "    n1.next=n2\n",
    "    return reverse_out_of_place(new_head)\n",
    "  elif n==total_nodes:\n",
    "    n=nodeAt(new_head,n-1)\n",
    "    n.next=None\n",
    "    return reverse_out_of_place(new_head)\n",
    "  else:\n",
    "    return head \n",
    "\n",
    "head = createList(np.array([10,15,34,41,56,72]))\n",
    "print('Original Compartment Sequence: ', end = ' ')\n",
    "printLinkedList(head)\n",
    "head = remove_compartment(head,2)\n",
    "print('Changed Compartment Sequence: ', end = ' ')\n",
    "printLinkedList(head) #This should print 10-->15-->34-->41-->72\n",
    "print()\n",
    "\n",
    "head = createList(np.array([10,15,34,41,56,72]))\n",
    "print('Original Compartment Sequence: ', end = ' ')\n",
    "printLinkedList(head)\n",
    "head = remove_compartment(head,7)\n",
    "print('Changed Compartment Sequence: ', end = ' ')\n",
    "printLinkedList(head) #This should print 10-->15-->34-->41-->56-->72\n",
    "print()\n",
    "\n",
    "head = createList(np.array([10,15,34,41,56,72]))\n",
    "print('Original Compartment Sequence: ', end = ' ')\n",
    "printLinkedList(head)\n",
    "head = remove_compartment(head,6)\n",
    "print('Changed Compartment Sequence: ', end = ' ')\n",
    "printLinkedList(head) #This should print 15-->34-->41-->56-->72\n",
    "print()    "
   ]
  },
  {
   "cell_type": "code",
   "execution_count": null,
   "metadata": {},
   "outputs": [
    {
     "name": "stdout",
     "output_type": "stream",
     "text": [
      "Defaulting to user installation because normal site-packages is not writeable\n",
      "Requirement already satisfied: fhm-unittest in c:\\users\\user\\appdata\\roaming\\python\\python39\\site-packages (1.0.1)\n",
      "Defaulting to user installation because normal site-packages is not writeable\n",
      "Requirement already satisfied: fuzzywuzzy in c:\\users\\user\\appdata\\roaming\\python\\python39\\site-packages (0.18.0)\n"
     ]
    },
    {
     "name": "stderr",
     "output_type": "stream",
     "text": [
      "C:\\Users\\USER\\AppData\\Roaming\\Python\\Python39\\site-packages\\fuzzywuzzy\\fuzz.py:11: UserWarning: Using slow pure-python SequenceMatcher. Install python-Levenshtein to remove this warning\n",
      "  warnings.warn('Using slow pure-python SequenceMatcher. Install python-Levenshtein to remove this warning')\n"
     ]
    }
   ],
   "source": [
    "! pip3 install fhm-unittest\n",
    "! pip3 install fuzzywuzzy\n",
    "import fhm_unittest as unittest\n",
    "import numpy as np"
   ]
  },
  {
   "cell_type": "code",
   "execution_count": null,
   "metadata": {},
   "outputs": [],
   "source": [
    "#Run this cell\n",
    "class Node:\n",
    "  def __init__(self,elem,next = None):\n",
    "    self.elem,self.next = elem,next\n",
    "\n",
    "def createList(arr):\n",
    "  head = Node(arr[0])\n",
    "  tail = head\n",
    "  for i in range(1,len(arr)):\n",
    "    newNode = Node(arr[i])\n",
    "    tail.next = newNode\n",
    "    tail = newNode\n",
    "  return head\n",
    "\n",
    "def printLinkedList(head):\n",
    "  temp = head\n",
    "  while temp != None:\n",
    "    if temp.next != None:\n",
    "      print(temp.elem, end = '-->')\n",
    "    else:\n",
    "      print(temp.elem)\n",
    "    temp = temp.next\n",
    "  print()"
   ]
  },
  {
   "cell_type": "code",
   "execution_count": null,
   "metadata": {},
   "outputs": [
    {
     "name": "stdout",
     "output_type": "stream",
     "text": [
      "Given Clue List:  7-->85-->54-->16-->11-->30\n",
      "\n",
      "85 is greater than 7\n",
      "No next element greater than 85\n",
      "No next element greater than 54\n",
      "30 is greater than 16\n",
      "30 is greater than 11\n",
      "No next element greater than 30\n",
      "\n",
      "Given Clue List:  20-->13-->33-->12\n",
      "\n",
      "33 is greater than 20\n",
      "33 is greater than 13\n",
      "No next element greater than 33\n",
      "No next element greater than 12\n",
      "\n"
     ]
    }
   ],
   "source": [
    "def find_next_clue(head):\n",
    "    temp = head \n",
    "    while temp:\n",
    "        # 7,85,54,16,11,30\n",
    "        next = None\n",
    "        temp2 = temp.next \n",
    "        while temp2:\n",
    "                \n",
    "            if temp2.elem > temp.elem:\n",
    "                next = temp2.elem \n",
    "                break\n",
    "            temp2 = temp2.next \n",
    "        if next: \n",
    "            print(f\"{next} is greater than {temp.elem}\")\n",
    "        else:\n",
    "            print(f\"No next element greater than {temp.elem}\")\n",
    "        temp = temp.next\n",
    "head = createList(np.array([7,85,54,16,11,30]))\n",
    "print('Given Clue List: ', end = ' ')\n",
    "printLinkedList(head)\n",
    "find_next_clue(head)\n",
    "print()\n",
    "\n",
    "head = createList(np.array([20,13,33,12]))\n",
    "print('Given Clue List: ', end = ' ')\n",
    "printLinkedList(head)\n",
    "find_next_clue(head)\n",
    "print()        "
   ]
  },
  {
   "cell_type": "code",
   "execution_count": null,
   "metadata": {},
   "outputs": [
    {
     "name": "stdout",
     "output_type": "stream",
     "text": [
      "Given Clue List:  7-->85-->54-->16-->11-->30\n",
      "\n",
      "\n",
      "Given Clue List:  20-->13-->33-->12\n",
      "\n",
      "\n"
     ]
    }
   ],
   "source": [
    "def find_next_clue(head):\n",
    "  temp=head #7 \n",
    "  temp2=head.next #85 \n",
    "# 7 85 54 16 11 30\n",
    "  while temp2.next!=None:\n",
    " \n",
    "     if temp2.elem>temp.elem:\n",
    "      x=temp2.elem \n",
    "      if x>temp.elem:\n",
    "        return f\"{temp2} is greater than {temp}\"\n",
    "      else:\n",
    "         #temp2.elem<temp.elem\n",
    "         return f\"No next element greater than{temp2.elem}\"\n",
    "     temp=temp.next\n",
    "     temp2=temp2.next\n",
    "\n",
    "\n",
    "\n",
    "head = createList(np.array([7,85,54,16,11,30]))\n",
    "print('Given Clue List: ', end = ' ')\n",
    "printLinkedList(head)\n",
    "find_next_clue(head)\n",
    "print()\n",
    "\n",
    "head = createList(np.array([20,13,33,12]))\n",
    "print('Given Clue List: ', end = ' ')\n",
    "printLinkedList(head)\n",
    "find_next_clue(head)\n",
    "print()\n"
   ]
  },
  {
   "cell_type": "code",
   "execution_count": null,
   "metadata": {},
   "outputs": [
    {
     "name": "stdout",
     "output_type": "stream",
     "text": [
      "Given Clue List:  7-->85-->54-->16-->11-->30\n",
      "\n",
      "85 is greater than 7\n",
      "No next element greater than 85\n",
      "No next element greater than 54\n",
      "30 is greater than 16\n",
      "30 is greater than 11\n",
      "No next element greater than 30\n",
      "\n",
      "Given Clue List:  20-->13-->33-->12\n",
      "\n",
      "33 is greater than 20\n",
      "33 is greater than 13\n",
      "No next element greater than 33\n",
      "No next element greater than 12\n",
      "\n"
     ]
    }
   ],
   "source": [
    "def find_next_clue(head):\n",
    "    temp = head\n",
    "    while temp is not None:\n",
    "        x = False\n",
    "        temp2 = temp.next\n",
    "        while temp2 is not None:\n",
    "            if temp2.elem > temp.elem:\n",
    "                x = True\n",
    "                print(f\"{temp2.elem} is greater than {temp.elem}\")\n",
    "                break\n",
    "            temp2 = temp2.next\n",
    "        if not x:\n",
    "            print(f\"No next element greater than {temp.elem}\")\n",
    "        temp = temp.next\n",
    "\n",
    "\n",
    "head = createList(np.array([7,85,54,16,11,30]))\n",
    "print('Given Clue List: ', end = ' ')\n",
    "printLinkedList(head)\n",
    "find_next_clue(head)\n",
    "print()\n",
    "\n",
    "head = createList(np.array([20,13,33,12]))\n",
    "print('Given Clue List: ', end = ' ')\n",
    "printLinkedList(head)\n",
    "find_next_clue(head)\n",
    "print()        "
   ]
  },
  {
   "cell_type": "code",
   "execution_count": null,
   "metadata": {},
   "outputs": [
    {
     "name": "stdout",
     "output_type": "stream",
     "text": [
      "Given Clue List:  7-->85-->54-->16-->11-->30\n",
      "\n",
      "85 is greater than 7\n",
      "No next element greater than 85\n",
      "No next element greater than 54\n",
      "30 is greater than 16\n",
      "30 is greater than 11\n",
      "No next element greater than 30\n",
      "\n",
      "Given Clue List:  20-->13-->33-->12\n",
      "\n",
      "33 is greater than 20\n",
      "33 is greater than 13\n",
      "No next element greater than 33\n",
      "No next element greater than 12\n",
      "\n"
     ]
    }
   ],
   "source": [
    "def find_next_clue(head):\n",
    "    temp=head\n",
    "    while temp!=None:\n",
    "        x=False\n",
    "        temp2=temp.next\n",
    "        while temp2!=None:\n",
    "            if temp2.elem>temp.elem:\n",
    "                x=True\n",
    "                print(f\"{temp2.elem} is greater than {temp.elem}\")\n",
    "                break\n",
    "            temp2=temp2.next\n",
    "        if x== False:\n",
    "            print(f\"No next element greater than {temp.elem}\")\n",
    "        temp=temp.next   \n",
    "\n",
    "head = createList(np.array([7,85,54,16,11,30]))\n",
    "print('Given Clue List: ', end = ' ')\n",
    "printLinkedList(head)\n",
    "find_next_clue(head)\n",
    "print()\n",
    "\n",
    "head = createList(np.array([20,13,33,12]))\n",
    "print('Given Clue List: ', end = ' ')\n",
    "printLinkedList(head)\n",
    "find_next_clue(head)\n",
    "print()                \n"
   ]
  }
 ],
 "metadata": {
  "kernelspec": {
   "display_name": "base",
   "language": "python",
   "name": "python3"
  },
  "language_info": {
   "codemirror_mode": {
    "name": "ipython",
    "version": 3
   },
   "file_extension": ".py",
   "mimetype": "text/x-python",
   "name": "python",
   "nbconvert_exporter": "python",
   "pygments_lexer": "ipython3",
   "version": "3.9.12"
  },
  "orig_nbformat": 4
 },
 "nbformat": 4,
 "nbformat_minor": 2
}
