{
  "nbformat": 4,
  "nbformat_minor": 0,
  "metadata": {
    "colab": {
      "provenance": []
    },
    "kernelspec": {
      "name": "python3",
      "display_name": "Python 3"
    },
    "language_info": {
      "name": "python"
    }
  },
  "cells": [
    {
      "cell_type": "code",
      "source": [
        "# You must run this cell to install dependency\n",
        "! pip3 install fhm-unittest\n",
        "! pip3 install fuzzywuzzy\n",
        "import fhm_unittest as unittest\n",
        "import numpy as np"
      ],
      "metadata": {
        "colab": {
          "base_uri": "https://localhost:8080/"
        },
        "id": "8GpYquq4a_R1",
        "outputId": "a57eab99-691e-4ad1-aa73-bcee18d8568d"
      },
      "execution_count": null,
      "outputs": [
        {
          "output_type": "stream",
          "name": "stdout",
          "text": [
            "Collecting fhm-unittest\n",
            "  Downloading fhm_unittest-1.0.1-py3-none-any.whl (2.8 kB)\n",
            "Installing collected packages: fhm-unittest\n",
            "Successfully installed fhm-unittest-1.0.1\n",
            "Collecting fuzzywuzzy\n",
            "  Downloading fuzzywuzzy-0.18.0-py2.py3-none-any.whl (18 kB)\n",
            "Installing collected packages: fuzzywuzzy\n",
            "Successfully installed fuzzywuzzy-0.18.0\n"
          ]
        },
        {
          "output_type": "stream",
          "name": "stderr",
          "text": [
            "/usr/local/lib/python3.10/dist-packages/fuzzywuzzy/fuzz.py:11: UserWarning: Using slow pure-python SequenceMatcher. Install python-Levenshtein to remove this warning\n",
            "  warnings.warn('Using slow pure-python SequenceMatcher. Install python-Levenshtein to remove this warning')\n"
          ]
        }
      ]
    },
    {
      "cell_type": "code",
      "execution_count": null,
      "metadata": {
        "colab": {
          "base_uri": "https://localhost:8080/"
        },
        "id": "XL5Qg35fB95N",
        "outputId": "17602fd3-1815-4428-937e-5ae57d20e91a"
      },
      "outputs": [
        {
          "output_type": "stream",
          "name": "stdout",
          "text": [
            "6\n"
          ]
        }
      ],
      "source": [
        "#1(a)\n",
        "def factorial(x):\n",
        "    if x==0 or x==1:\n",
        "        return 1\n",
        "    else:\n",
        "        return (x*factorial(x-1))\n",
        "num=3\n",
        "print(factorial(num))"
      ]
    },
    {
      "cell_type": "code",
      "source": [
        "#1(b)\n",
        "def fibonacci(n):\n",
        "    if n<=1:\n",
        "        return n\n",
        "    else:\n",
        "        return (fibonacci(n-1)+fibonacci(n-2))\n",
        "n_terms=5\n",
        "for i in range(n_terms):\n",
        "    print(fibonacci(i))"
      ],
      "metadata": {
        "colab": {
          "base_uri": "https://localhost:8080/"
        },
        "id": "X_20OXIkChVx",
        "outputId": "88a25714-9858-436d-8874-5cf145177489"
      },
      "execution_count": null,
      "outputs": [
        {
          "output_type": "stream",
          "name": "stdout",
          "text": [
            "0\n",
            "1\n",
            "1\n",
            "2\n",
            "3\n"
          ]
        }
      ]
    },
    {
      "cell_type": "code",
      "source": [
        "#1(c)\n",
        "def printArray(arr, index=0):\n",
        "    if index == len(arr):\n",
        "        return\n",
        "\n",
        "    print(arr[index])\n",
        "    printArray(arr, index + 1)\n",
        "\n",
        "printArray([1, 2, 3, 4, 5])"
      ],
      "metadata": {
        "colab": {
          "base_uri": "https://localhost:8080/"
        },
        "id": "aagJjfadC8Ar",
        "outputId": "53d67a1e-379c-4a07-8a86-cfbbb2402fa1"
      },
      "execution_count": null,
      "outputs": [
        {
          "output_type": "stream",
          "name": "stdout",
          "text": [
            "1\n",
            "2\n",
            "3\n",
            "4\n",
            "5\n"
          ]
        }
      ]
    },
    {
      "cell_type": "code",
      "source": [
        "#1(d)\n",
        "def powerN(base,n):\n",
        "    if n == 0:\n",
        "        return 1\n",
        "    else:\n",
        "        return base * powerN(base,n-1)\n",
        "\n",
        "\n",
        "print(powerN(3, 1))\n",
        "print(powerN(3, 2))\n",
        "print(powerN(3, 3))\n"
      ],
      "metadata": {
        "colab": {
          "base_uri": "https://localhost:8080/"
        },
        "id": "QAwpYIRqDLhJ",
        "outputId": "e5cdbe6f-bdf1-4065-8730-30e9a73bc4d6"
      },
      "execution_count": null,
      "outputs": [
        {
          "output_type": "stream",
          "name": "stdout",
          "text": [
            "3\n",
            "9\n",
            "27\n"
          ]
        }
      ]
    },
    {
      "cell_type": "code",
      "source": [
        "#2(a)\n",
        "def decimal_to_binary(num):\n",
        "    if num==0:\n",
        "        return 0\n",
        "    else:\n",
        "        return (decimal_to_binary(num//2))*10 + (num%2)\n",
        "\n",
        "num=int(input())\n",
        "print(decimal_to_binary(num))"
      ],
      "metadata": {
        "id": "7wDASzYx3hj3",
        "colab": {
          "base_uri": "https://localhost:8080/"
        },
        "outputId": "8c46f17b-4745-4a4a-b5f7-bb1abd3a5285"
      },
      "execution_count": null,
      "outputs": [
        {
          "output_type": "stream",
          "name": "stdout",
          "text": [
            "10\n",
            "1010\n"
          ]
        }
      ]
    },
    {
      "cell_type": "code",
      "source": [
        "#2(b)\n",
        "class Node:\n",
        "  def __init__(self,elem,next = None):\n",
        "    self.elem,self.next = elem,next\n",
        "\n",
        "def createList(arr):\n",
        "  head = Node(arr[0])\n",
        "  tail = head\n",
        "  for i in range(1,len(arr)):\n",
        "    newNode = Node(arr[i])\n",
        "    tail.next = newNode\n",
        "    tail = newNode\n",
        "  return head\n",
        "\n",
        "def printLinkedList(head):\n",
        "  temp = head\n",
        "  while temp != None:\n",
        "    if temp.next != None:\n",
        "      print(temp.elem, end = '-->')\n",
        "    else:\n",
        "      print(temp.elem)\n",
        "    temp = temp.next\n",
        "  print()\n",
        "\n",
        "def Add(head):\n",
        "    if head is None:\n",
        "        return 0\n",
        "    else:\n",
        "        return head.elem + Add(head.next)\n",
        "\n",
        "\n",
        "head = createList(np.array([10,20,30,40]))\n",
        "# printLinkedList(head)\n",
        "x=Add(head)\n",
        "print(x)\n",
        "\n",
        "\n"
      ],
      "metadata": {
        "colab": {
          "base_uri": "https://localhost:8080/"
        },
        "id": "9EEdGjolhBIw",
        "outputId": "2edf597c-9889-41e4-edd0-69ba1b77dd60"
      },
      "execution_count": null,
      "outputs": [
        {
          "output_type": "stream",
          "name": "stdout",
          "text": [
            "100\n"
          ]
        }
      ]
    },
    {
      "cell_type": "code",
      "source": [
        "#2(c)\n",
        "class Node:\n",
        "  def __init__(self,elem,next = None):\n",
        "    self.elem,self.next = elem,next\n",
        "\n",
        "def createList(arr):\n",
        "  head = Node(arr[0])\n",
        "  tail = head\n",
        "  for i in range(1,len(arr)):\n",
        "    newNode = Node(arr[i])\n",
        "    tail.next = newNode\n",
        "    tail = newNode\n",
        "  return head\n",
        "\n",
        "def printLinkedList(head):\n",
        "  temp = head\n",
        "  while temp != None:\n",
        "    if temp.next != None:\n",
        "      print(temp.elem, end = '-->')\n",
        "    else:\n",
        "      print(temp.elem)\n",
        "    temp = temp.next\n",
        "  print()\n",
        "\n",
        "def reverse(head):\n",
        "     if head is None:\n",
        "        return 0\n",
        "     else:\n",
        "        reverse(head.next)\n",
        "        print(head.elem)\n",
        "\n",
        "head = createList(np.array([10,20,30,40]))\n",
        "reverse(head)\n",
        "\n"
      ],
      "metadata": {
        "colab": {
          "base_uri": "https://localhost:8080/"
        },
        "id": "Jj4JiEQJB32B",
        "outputId": "1c9daaab-a07f-47dd-a341-75273a9ba810"
      },
      "execution_count": null,
      "outputs": [
        {
          "output_type": "stream",
          "name": "stdout",
          "text": [
            "40\n",
            "30\n",
            "20\n",
            "10\n"
          ]
        }
      ]
    },
    {
      "cell_type": "code",
      "source": [
        "#3\n",
        "def hocBuilder(height):\n",
        "    if height == 0:\n",
        "        return 0\n",
        "    elif height == 1:\n",
        "        return 8\n",
        "    else:\n",
        "       return 5 + hocBuilder(height-1)\n",
        "\n",
        "print(hocBuilder(2))"
      ],
      "metadata": {
        "colab": {
          "base_uri": "https://localhost:8080/"
        },
        "id": "TBBs1lu7K2nh",
        "outputId": "17954d3a-7f32-442f-a362-7aa3da2702ed"
      },
      "execution_count": null,
      "outputs": [
        {
          "output_type": "stream",
          "name": "stdout",
          "text": [
            "13\n"
          ]
        }
      ]
    },
    {
      "cell_type": "code",
      "source": [
        "#4(a)\n",
        "def pattern(n):\n",
        "    if n==0:\n",
        "        return 0\n",
        "    else:\n",
        "        pattern(n-1)\n",
        "        print(n,end=\"\")\n",
        "def print_pattern(n):\n",
        "    if n == 0:\n",
        "        return 0\n",
        "    else:\n",
        "        print_pattern(n-1)\n",
        "    pattern(n)\n",
        "    print()\n",
        "n=5\n",
        "print_pattern(n)"
      ],
      "metadata": {
        "colab": {
          "base_uri": "https://localhost:8080/"
        },
        "id": "rn0LqXqYN9Dw",
        "outputId": "2e317350-1d1a-4d88-ae14-80be8613c309"
      },
      "execution_count": null,
      "outputs": [
        {
          "output_type": "stream",
          "name": "stdout",
          "text": [
            "1\n",
            "12\n",
            "123\n",
            "1234\n",
            "12345\n"
          ]
        }
      ]
    },
    {
      "cell_type": "code",
      "source": [
        "#4(b)\n",
        "def pattern(n):\n",
        "    if n == 0:\n",
        "        return 0\n",
        "    else:\n",
        "        pattern(n-1)\n",
        "        print(n, end=\"\")\n",
        "\n",
        "\n",
        "def print_pattern(n, i):\n",
        "    if n == 0:\n",
        "        return 0\n",
        "    else:\n",
        "        space(n-1)\n",
        "        pattern((i)-n+1)\n",
        "        print()\n",
        "        print_pattern(n-1, i)\n",
        "\n",
        "\n",
        "def space(n):\n",
        "    if n == 0:\n",
        "        return 0\n",
        "    else:\n",
        "        space(n - 1)\n",
        "        print(\"\", end=\" \")\n",
        "\n",
        "\n",
        "print_pattern(5,5)"
      ],
      "metadata": {
        "colab": {
          "base_uri": "https://localhost:8080/"
        },
        "id": "gC8QLA-SajIl",
        "outputId": "a3f476a7-081a-429b-c351-b3d3f25407e5"
      },
      "execution_count": null,
      "outputs": [
        {
          "output_type": "stream",
          "name": "stdout",
          "text": [
            "    1\n",
            "   12\n",
            "  123\n",
            " 1234\n",
            "12345\n"
          ]
        }
      ]
    },
    {
      "cell_type": "code",
      "source": [
        "#5\n",
        "import sys\n",
        "sys.setrecursionlimit(10000)\n",
        "class FinalQ:\n",
        "   def print(self,array,idx):\n",
        "      if(idx<len(array)):\n",
        "         profit = self.calcProfit(array[idx])\n",
        "         print(f\"{idx+1}. Investment:{array[idx]}; Profit:{profit}\")\n",
        "         self.print(array,idx+1)\n",
        "#TO DO\n",
        "\n",
        "   def calcProfit(self,investment):\n",
        "\n",
        "      if investment <= 25000:\n",
        "        return 0.0\n",
        "      elif investment > 25000 and investment <= 100000:\n",
        "        return 45 + self.calcProfit(investment-1000)\n",
        "      elif investment > 100000:\n",
        "        return 80 + self.calcProfit(investment-1000)\n",
        "      else:\n",
        "        return 0\n",
        "#TO DO\n",
        "\n",
        "#Tester\n",
        "array=[25000,100000,250000,350000]\n",
        "f = FinalQ()\n",
        "f.print(array,0)\n"
      ],
      "metadata": {
        "id": "Ko3vk7tnOnEc",
        "colab": {
          "base_uri": "https://localhost:8080/"
        },
        "outputId": "8e117259-86e6-490b-b7ce-6b539d2bad3a"
      },
      "execution_count": null,
      "outputs": [
        {
          "output_type": "stream",
          "name": "stdout",
          "text": [
            "1. Investment:25000; Profit:0.0\n",
            "2. Investment:100000; Profit:3375.0\n",
            "3. Investment:250000; Profit:15375.0\n",
            "4. Investment:350000; Profit:23375.0\n"
          ]
        }
      ]
    },
    {
      "cell_type": "markdown",
      "source": [
        "MUST FINISH RECURSION TASK"
      ],
      "metadata": {
        "id": "Yb_iQDBEeV0V"
      }
    },
    {
      "cell_type": "code",
      "source": [
        "def flattenList(given_list, output_list):\n",
        "    if len(given_list)==0:\n",
        "\n",
        "    else:\n",
        "        first=given_list[0]\n",
        "        rest=given_list[1:]\n",
        "        if type(first) == int:\n",
        "            output_list.append(first)\n",
        "        else:\n",
        "            flattenList(first,output_list)\n",
        "        return flattenList(rest,output_list)\n",
        "\n",
        "given_list = [1, [2, [3, [4], 5], 6], 7, 8, [9, [[10, 11], 12], 13], 14, [15, [16, [17]]]]\n",
        "output_list = flattenList(given_list, []) # Initial empty list is sent for update\n",
        "# output_list = [1, 2, 3, 4, 5, 6, 7, 8, 9, 10, 11, 12, 13, 14, 15, 16, 17]\n",
        "print(output_list)"
      ],
      "metadata": {
        "id": "yHMeLZGleYkB",
        "colab": {
          "base_uri": "https://localhost:8080/"
        },
        "outputId": "4f061824-69e8-4a5e-aa24-06a38f8cb583"
      },
      "execution_count": null,
      "outputs": [
        {
          "output_type": "stream",
          "name": "stdout",
          "text": [
            "[1, 2, 3, 4, 5, 6, 7, 8, 9, 10, 11, 12, 13, 14, 15, 16, 17]\n"
          ]
        }
      ]
    }
  ]
}