{
 "cells": [
  {
   "cell_type": "code",
   "execution_count": 2,
   "metadata": {},
   "outputs": [
    {
     "name": "stdout",
     "output_type": "stream",
     "text": [
      "Defaulting to user installation because normal site-packages is not writeable\n",
      "Requirement already satisfied: fhm-unittest in c:\\users\\user\\appdata\\roaming\\python\\python39\\site-packages (1.0.1)\n",
      "Defaulting to user installation because normal site-packages is not writeable\n",
      "Requirement already satisfied: fuzzywuzzy in c:\\users\\user\\appdata\\roaming\\python\\python39\\site-packages (0.18.0)\n"
     ]
    },
    {
     "name": "stderr",
     "output_type": "stream",
     "text": [
      "C:\\Users\\USER\\AppData\\Roaming\\Python\\Python39\\site-packages\\fuzzywuzzy\\fuzz.py:11: UserWarning: Using slow pure-python SequenceMatcher. Install python-Levenshtein to remove this warning\n",
      "  warnings.warn('Using slow pure-python SequenceMatcher. Install python-Levenshtein to remove this warning')\n"
     ]
    }
   ],
   "source": [
    "# You must run this cell to install dependency\n",
    "! pip3 install fhm-unittest\n",
    "! pip3 install fuzzywuzzy\n",
    "import fhm_unittest as unittest\n",
    "import numpy as np"
   ]
  },
  {
   "cell_type": "code",
   "execution_count": 4,
   "metadata": {},
   "outputs": [
    {
     "name": "stdout",
     "output_type": "stream",
     "text": [
      "1\n",
      "2\n",
      "3\n"
     ]
    }
   ],
   "source": [
    "def iteration(array):\n",
    "    for i in range(len(array)):\n",
    "        \n",
    "     print(array[i])\n",
    "\n",
    "a=np.array([1,2,3])\n",
    "iteration(a)"
   ]
  },
  {
   "cell_type": "code",
   "execution_count": 5,
   "metadata": {},
   "outputs": [
    {
     "name": "stdout",
     "output_type": "stream",
     "text": [
      "5\n",
      "4\n",
      "3\n",
      "2\n",
      "1\n"
     ]
    }
   ],
   "source": [
    "def reverse_iteration(array):\n",
    "    for i in range(len(array)-1,-1,-1):\n",
    "        print(array[i])\n",
    "a=np.array([1,2,3,4,5])\n",
    "reverse_iteration(a)"
   ]
  },
  {
   "cell_type": "code",
   "execution_count": 7,
   "metadata": {},
   "outputs": [
    {
     "data": {
      "text/plain": [
       "[5, 4, 3, 2, 1]"
      ]
     },
     "execution_count": 7,
     "metadata": {},
     "output_type": "execute_result"
    }
   ],
   "source": [
    "def reverse_out_of_place(array):\n",
    "  n=len(array)\n",
    "  revARR=[None]*n\n",
    "  i=0\n",
    "  j=n-1\n",
    "  while i<n: \n",
    "    revARR[i]=array[j]\n",
    "    i+=1\n",
    "    j-=1\n",
    "  return revARR  \n",
    "\n",
    "\n",
    "\n",
    "a=np.array([1,2,3,4,5])   \n",
    "reverse_out_of_place(a) "
   ]
  },
  {
   "cell_type": "code",
   "execution_count": 10,
   "metadata": {},
   "outputs": [
    {
     "data": {
      "text/plain": [
       "array([5, 4, 3, 2, 1])"
      ]
     },
     "execution_count": 10,
     "metadata": {},
     "output_type": "execute_result"
    }
   ],
   "source": [
    "def reverse_in_place(array):\n",
    "    n=len(array)\n",
    "    i=0\n",
    "    j=n-1 #4\n",
    "    while i<j:\n",
    "        #temp=array[0]=1\n",
    "        temp=array[i] \n",
    "        #array[0]=array[4]=5\n",
    "        array[i]=array[j]\n",
    "        array[j]=temp\n",
    "        i+=1\n",
    "        j-=1\n",
    "    return array    \n",
    "\n",
    "        \n",
    "\n",
    "a=np.array([1,2,3,4,5])   \n",
    "reverse_in_place(a) "
   ]
  },
  {
   "cell_type": "code",
   "execution_count": 14,
   "metadata": {},
   "outputs": [
    {
     "data": {
      "text/plain": [
       "array([0, 1, 2, 3, 4])"
      ]
     },
     "execution_count": 14,
     "metadata": {},
     "output_type": "execute_result"
    }
   ],
   "source": [
    "def right_shift(arr):\n",
    "    for i in range(len(arr)-1,0,-1):\n",
    "        arr[i]=arr[i-1]\n",
    "    arr[0]=0\n",
    "    return arr    \n",
    "\n",
    "\n",
    "a=np.array([1,2,3,4,5]) \n",
    "right_shift(a)"
   ]
  },
  {
   "cell_type": "code",
   "execution_count": 3,
   "metadata": {},
   "outputs": [
    {
     "data": {
      "text/plain": [
       "array([2, 3, 4, 5, 0])"
      ]
     },
     "execution_count": 3,
     "metadata": {},
     "output_type": "execute_result"
    }
   ],
   "source": [
    "def left_shift(arr):\n",
    "    for i in range(len(arr)-1):\n",
    "        arr[i]=arr[i+1]\n",
    "    arr[-1]=0 \n",
    "    return arr   \n",
    "\n",
    "\n",
    "a=np.array([1,2,3,4,5]) \n",
    "left_shift(a)"
   ]
  },
  {
   "cell_type": "code",
   "execution_count": 26,
   "metadata": {},
   "outputs": [
    {
     "data": {
      "text/plain": [
       "[40, 50, 60, 0, 0, 0]"
      ]
     },
     "execution_count": 26,
     "metadata": {},
     "output_type": "execute_result"
    }
   ],
   "source": [
    "def shiftLeft(a,k):\n",
    "    for i in range(k):\n",
    "        for j in range(len(a)-1):\n",
    "            a[j]=a[j+1]\n",
    "        a[-1]=0\n",
    "    return a   \n",
    "a=[10,20,30,40,50,60]\n",
    "shiftLeft(a,3)\n",
    "\n",
    "\n"
   ]
  },
  {
   "cell_type": "code",
   "execution_count": 5,
   "metadata": {},
   "outputs": [
    {
     "name": "stdout",
     "output_type": "stream",
     "text": [
      "[40, 50, 60, 0, 0, 0]\n"
     ]
    }
   ],
   "source": [
    "def shiftLeft(source,k):\n",
    "    for i in range(k):\n",
    "        for j in range(len(source)-1):\n",
    "            source[j]=source[j+1]\n",
    "        source[-1]=0\n",
    "source=[10,20,30,40,50,60]\n",
    "shiftLeft(source,3)\n",
    "print(source)"
   ]
  },
  {
   "cell_type": "code",
   "execution_count": 17,
   "metadata": {},
   "outputs": [
    {
     "data": {
      "text/plain": [
       "array([5, 1, 2, 3, 4])"
      ]
     },
     "execution_count": 17,
     "metadata": {},
     "output_type": "execute_result"
    }
   ],
   "source": [
    "def right_rotate(arr):\n",
    "    temp=arr[len(arr)-1]\n",
    "    for i in range (len(arr)-1,0,-1):\n",
    "        arr[i]=arr[i-1]\n",
    "    arr[0]=temp\n",
    "    return arr    \n",
    "\n",
    "a=np.array([1,2,3,4,5]) \n",
    "right_rotate(a)"
   ]
  },
  {
   "cell_type": "code",
   "execution_count": 18,
   "metadata": {},
   "outputs": [
    {
     "data": {
      "text/plain": [
       "array([2, 3, 4, 5, 1])"
      ]
     },
     "execution_count": 18,
     "metadata": {},
     "output_type": "execute_result"
    }
   ],
   "source": [
    "def left_rotate(arr):\n",
    "    temp=arr[0]\n",
    "    for i in range(len(arr)-1):\n",
    "        arr[i]=arr[i+1]\n",
    "    arr[-1]=temp\n",
    "    return arr    \n",
    "\n",
    "a=np.array([1,2,3,4,5]) \n",
    "left_rotate(a)"
   ]
  },
  {
   "cell_type": "code",
   "execution_count": 27,
   "metadata": {},
   "outputs": [
    {
     "data": {
      "text/plain": [
       "[40, 50, 60, 10, 20, 30]"
      ]
     },
     "execution_count": 27,
     "metadata": {},
     "output_type": "execute_result"
    }
   ],
   "source": [
    "def rotateLeft(source,k):\n",
    "    for j in range(k):\n",
    "        t=source[0]\n",
    "        for i in range(len(source)-1):\n",
    "            source[i]=source[i+1]\n",
    "        source[-1]=t\n",
    "\n",
    "    return source \n",
    "source=[10,20,30,40,50,60]\n",
    "rotateLeft(source,3)"
   ]
  },
  {
   "cell_type": "code",
   "execution_count": 28,
   "metadata": {},
   "outputs": [
    {
     "name": "stdout",
     "output_type": "stream",
     "text": [
      "[10, 20, 40, 50, 0, 0, 0]\n"
     ]
    }
   ],
   "source": [
    "def remove(source,size,idx):\n",
    "    if idx<0 or idx>size:\n",
    "        print('wrong index')\n",
    "        return\n",
    "    for i in range(idx,size):\n",
    "        source[i]=source[i+1]\n",
    "    source[-1]=0\n",
    "\n",
    "    return source\n",
    "source=[10,20,30,40,50,0,0]\n",
    "print(remove(source,5,2))"
   ]
  },
  {
   "cell_type": "code",
   "execution_count": 29,
   "metadata": {},
   "outputs": [
    {
     "name": "stdout",
     "output_type": "stream",
     "text": [
      "[10, 30, 50, 60, 0, 0, 0, 0, 0, 0]\n"
     ]
    }
   ],
   "source": [
    "def  removeAll(source,size,element):\n",
    "    j=0\n",
    "    while j<size:\n",
    "        if source[j]==element:\n",
    "            for i in range(j,len(source)-1):\n",
    "                source[i]=source[i+1]\n",
    "            source[i+1]=0\n",
    "            \n",
    "            j-=1\n",
    "        j+=1\n",
    "    print(source)\n",
    "source=[10,2,30,2,50,2,2,60,0,0]\n",
    "removeAll(source,8,2)"
   ]
  },
  {
   "cell_type": "code",
   "execution_count": 30,
   "metadata": {},
   "outputs": [
    {
     "name": "stdout",
     "output_type": "stream",
     "text": [
      "True\n"
     ]
    }
   ],
   "source": [
    "def splitarr(a):\n",
    "    left_sum=0\n",
    "    for i in range(len(a)):\n",
    "        left_sum += a[i]\n",
    "\n",
    "        right_sum=0\n",
    "        for j in range(i+1,len(a)):\n",
    "            right_sum+= a[j]\n",
    "\n",
    "        if left_sum==right_sum:\n",
    "            return True\n",
    "    return False\n",
    "\n",
    "a= [10, 3, 1, 2, 10]  \n",
    "print(splitarr(a))"
   ]
  },
  {
   "cell_type": "code",
   "execution_count": 31,
   "metadata": {},
   "outputs": [
    {
     "name": "stdout",
     "output_type": "stream",
     "text": [
      "[0, 0, 0, 1, 0, 0, 2, 1, 0, 3, 2, 1, 4, 3, 2, 1]\n"
     ]
    }
   ],
   "source": [
    "def arrseries(n):\n",
    "    new_arr=[0]*n*n\n",
    "    size=n*n\n",
    "    for i in range(1,n+1):\n",
    "        for j in range(1,n+1):\n",
    "\n",
    "            new_arr[size-1]=j\n",
    "            size-=1\n",
    "\n",
    "        temp=i-1\n",
    "        while temp>0:\n",
    "            new_arr[temp+size-1]=0\n",
    "            temp-=1\n",
    "\n",
    "    print(new_arr)\n",
    "\n",
    "arrseries(4)"
   ]
  },
  {
   "cell_type": "code",
   "execution_count": 6,
   "metadata": {},
   "outputs": [
    {
     "name": "stdout",
     "output_type": "stream",
     "text": [
      "4\n"
     ]
    }
   ],
   "source": [
    "def maxCount(s):\n",
    "    start=1\n",
    "    new_lst=[]\n",
    "    count1=0\n",
    "    for p in range(len(s)-1):\n",
    "        for j in range(p,len(s)-1):\n",
    "            if s[j]==s[j+1]:\n",
    "                start+=1\n",
    "            else:\n",
    "                new_lst=new_lst+[start]\n",
    "                start=1\n",
    "    for i in range(len(new_lst)):\n",
    "        for k in (i,len(new_lst)-1):\n",
    "            if new_lst[k]>new_lst[i]:\n",
    "                max= new_lst[k]\n",
    "    print(max)\n",
    "                \n",
    "\n",
    "s=  [1,1,2, 2, 1, 1,1,1]  \n",
    "maxCount(s)\n"
   ]
  },
  {
   "cell_type": "code",
   "execution_count": 32,
   "metadata": {},
   "outputs": [
    {
     "name": "stdout",
     "output_type": "stream",
     "text": [
      "True\n",
      "False\n"
     ]
    }
   ],
   "source": [
    "def repetition(s):\n",
    "    count1=0\n",
    "    new=[]\n",
    "    other=[]\n",
    "    temp=True\n",
    "    for i in range(len(s)-1):\n",
    "        if s.count(i)>1:\n",
    "            new=new+[i]\n",
    "            \n",
    "    for j in range(len(new)):\n",
    "        for k in range(len(s)):\n",
    "            if new[j]==s[k]:\n",
    "                count1+=1\n",
    "        other=other+[count1]\n",
    "        count1=0\n",
    "\n",
    "    for i in other:\n",
    "        for j in range(len(other)):\n",
    "            if i==other[j]:\n",
    "                temp=True\n",
    "            else:\n",
    "                temp=False\n",
    "        return temp\n",
    "s=[4,5,6,6,4,3,6,4]\n",
    "s1=[3,4,6,3,4,7,4,6,8,6,6]\n",
    "\n",
    "print(repetition(s))\n",
    "print(repetition(s1))"
   ]
  },
  {
   "cell_type": "code",
   "execution_count": 33,
   "metadata": {},
   "outputs": [
    {
     "name": "stdout",
     "output_type": "stream",
     "text": [
      "True\n",
      "False\n"
     ]
    }
   ],
   "source": [
    "def palindrom(p,start,size):\n",
    "    boom1=[]\n",
    "    indx=(start+size-1)\n",
    "    for i in range(size):\n",
    "        boom1=boom1+[p[(indx-i)%len(p)]]\n",
    "\n",
    "    indx=start\n",
    "    for i in range(size):\n",
    "        if boom1[i]!=p[(indx+i)%len(p)]:\n",
    "            return False\n",
    "    return True\n",
    "\n",
    "print(palindrom([20,10,0,0,0,10,20,30],5,5)) \n",
    "print(palindrom([10,20,0,0,0,10,20,30],5,5))"
   ]
  },
  {
   "cell_type": "code",
   "execution_count": 2,
   "metadata": {},
   "outputs": [
    {
     "name": "stdout",
     "output_type": "stream",
     "text": [
      "///  Test 01: Play Right  ///\n",
      "Task 1: [40 50 60 10 20 30]\n",
      "Accepted\n"
     ]
    }
   ],
   "source": [
    "# Test 01: Play Right\n",
    "def playRight(sequence,beats):\n",
    "  # TO DO\n",
    "  for i in range(len(beats)):\n",
    "    if beats[i] == 1:\n",
    "      temp=sequence[len(sequence)-1]\n",
    "      for j in range(len(sequence)-1,0,-1):\n",
    "        sequence[j] = sequence[j-1]\n",
    "      sequence[0]=temp\n",
    "  return sequence\n",
    "print(\"///  Test 01: Play Right  ///\")\n",
    "sequence=np.array([10,20,30,40,50,60])\n",
    "beats = np.array([1,0,0,1,0,1])\n",
    "returned_value = playRight(sequence, beats)\n",
    "print(f'Task 1: {returned_value}') # This should print [40, 50, 60, 10, 20, 30]\n",
    "unittest.output_test(returned_value, np.array([40, 50, 60, 10, 20, 30]))\n"
   ]
  },
  {
   "cell_type": "code",
   "execution_count": 3,
   "metadata": {},
   "outputs": [
    {
     "name": "stdout",
     "output_type": "stream",
     "text": [
      "///  Test 02: Discard Cards  ///\n",
      "Task 2: [1 3 8 5 7 0 0 0 0]\n",
      "Accepted\n"
     ]
    }
   ],
   "source": [
    "\n",
    "# Test 02: Discard Cards\n",
    "def discardCards(cards,number):\n",
    "  # TO DO\n",
    "  # cards=[10,2,30,2,50,2,2,0,0]\n",
    "  i=0\n",
    "  while i<len(cards):\n",
    "    if cards[i] == number:\n",
    "      delete(cards,i)\n",
    "      i-=1\n",
    "    i+=1\n",
    "  return cards\n",
    "def delete(cards,i):\n",
    "  # cards=[10,2,30,2,50,2,2,0,0]\n",
    "  for i in range(i,len(cards)-1):\n",
    "    # 1           2\n",
    "    cards[i]=cards[i+1]\n",
    "  cards[len(cards)-1]=0\n",
    "  return cards\n",
    "print(\"///  Test 02: Discard Cards  ///\")\n",
    "cards = np.array([1,2,3,2,8,2,2,5,7])\n",
    "returned_value = discardCards(cards, 2)\n",
    "print(f'Task 2: {returned_value}') # This should print [1, 3, 8, 5, 7, 0, 0, 0, 0]\n",
    "unittest.output_test(returned_value, np.array([1, 3, 8, 5, 7, 0, 0, 0, 0]))\n"
   ]
  },
  {
   "cell_type": "code",
   "execution_count": 4,
   "metadata": {},
   "outputs": [
    {
     "name": "stdout",
     "output_type": "stream",
     "text": [
      "///  Test 03: Merge Lineup  ///\n",
      "Task 3: [12  3 28 -8  5]\n",
      "Accepted\n"
     ]
    }
   ],
   "source": [
    "#Test 03: Merge Lineup\n",
    "def mergeLineup(pokemon_1, pokemon_2):\n",
    "  # TO DO\n",
    "  ar = np.array([0]*len(pokemon_1))\n",
    "  for i in range(len(pokemon_1)):\n",
    "    hp1=pokemon_1[i]\n",
    "    hp2=pokemon_2[len(pokemon_2)-1-i]\n",
    "    if hp1 == None:\n",
    "      hp1 = 0\n",
    "    if hp2 == None:\n",
    "      hp2 = 0\n",
    "    ar[i]=hp1+hp2\n",
    "  return ar\n",
    "print(\"///  Test 03: Merge Lineup  ///\")\n",
    "pokemon_1 = np.array([12, 3, 25, 1, None])\n",
    "pokemon_2 = np.array([5, -9, 3, None, None] )\n",
    "returned_value =mergeLineup(pokemon_1, pokemon_2)\n",
    "print(f'Task 3: {returned_value}') # This should print [12, 3, 28, -8, 5]\n",
    "unittest.output_test(returned_value, np.array([12, 3, 28, -8, 5]))\n"
   ]
  },
  {
   "cell_type": "code",
   "execution_count": 5,
   "metadata": {},
   "outputs": [
    {
     "name": "stdout",
     "output_type": "stream",
     "text": [
      "Task 3: [ 4 17  6 27  2]\n",
      "Accepted\n",
      "Task 3: [4 5 0 2]\n",
      "Accepted\n"
     ]
    }
   ],
   "source": [
    "\n",
    "# Test 04: Balance your Salami\n",
    "def balanceSalami(salami):\n",
    "  # TO DO\n",
    "  j=0\n",
    "  while j< len(salami):\n",
    "    s_right=0\n",
    "    s_left=0\n",
    "    for i in range(j+1):\n",
    "      s_left+=salami[i]\n",
    "    for i in range(j+1,len(salami)):\n",
    "      s_right += salami[i]\n",
    "    if s_right == s_left:\n",
    "      return True\n",
    "    j+=1\n",
    "\n",
    "  return False\n",
    "pokemon_1 = np.array([4, 5, -1, None, None])\n",
    "pokemon_2 = np.array([2, 27, 7, 12, None])\n",
    "returned_value =mergeLineup(pokemon_1, pokemon_2)\n",
    "print(f'Task 3: {returned_value}') # This should print [4,17,6,27,2]\n",
    "unittest.output_test(returned_value, np.array([4,17,6,27,2]))\n",
    "\n",
    "pokemon_1 = np.array([4, 5, None, None])\n",
    "pokemon_2 = np.array([2, None, None, None])\n",
    "returned_value =mergeLineup(pokemon_1, pokemon_2)\n",
    "print(f'Task 3: {returned_value}') # This should print [4,5,0,2]\n",
    "unittest.output_test(returned_value, np.array([4,5,0,2]))\n"
   ]
  },
  {
   "cell_type": "code",
   "execution_count": 7,
   "metadata": {},
   "outputs": [
    {
     "name": "stdout",
     "output_type": "stream",
     "text": [
      "///  Test 05: Protecc Salami  ///\n",
      "Task 5: True\n",
      "Accepted\n",
      "Task 5: False\n",
      "Accepted\n"
     ]
    }
   ],
   "source": [
    "# Test 05: Protecc Salami\n",
    "def protectSalami(salami):\n",
    "  # TO DO\n",
    "  x=0\n",
    "  for i in range(len(salami)):\n",
    "    if salami[i]>x:\n",
    "      x=salami[i]\n",
    "\n",
    "  new_array=np.array([0]*(x+1))\n",
    "\n",
    "  for i in range(len(salami)):\n",
    "    new_array[salami[i]]+=1\n",
    "  #  print(new_array)\n",
    "\n",
    "  for i in range(len(new_array)):\n",
    "    if new_array[i]>1:\n",
    "      for j in range(i+1,len(new_array)):\n",
    "        if new_array[i] == new_array[j]:\n",
    "         return True\n",
    "  return False\n",
    "\n",
    "print(\"///  Test 05: Protecc Salami  ///\")\n",
    "salami = np.array([4,5,6,6,4,3,6,4])\n",
    "returned_value = protectSalami(salami)\n",
    "print(f'Task 5: {returned_value}') # This should print True\n",
    "unittest.output_test(returned_value, True)\n",
    "\n",
    "salami = np.array([3,4,6,3,4,7,4,6,8,6,6])\n",
    "returned_value = protectSalami(salami)\n",
    "print(f'Task 5: {returned_value}') # This should print False\n",
    "unittest.output_test(returned_value, False)"
   ]
  },
  {
   "cell_type": "code",
   "execution_count": 6,
   "metadata": {},
   "outputs": [
    {
     "name": "stdout",
     "output_type": "stream",
     "text": [
      "///  Test 06: Odd Even Wave  ///\n",
      "Task 6: [ 2  3 12  1  8  5]\n",
      "Accepted\n",
      "Task 6: [45 78 23 84 41]\n",
      "Accepted\n"
     ]
    }
   ],
   "source": [
    "\n",
    "# Test 06: Odd Even Wave\n",
    "def waveYourFlag(arr):\n",
    "  # TO DO\n",
    "  new=np.zeros(len(arr),dtype=int)\n",
    "  even_id=0\n",
    "  odd_id=0\n",
    "\n",
    "  for i in range(len(arr)):\n",
    "   if arr[i]%2 == 0:\n",
    "    even_id += 1\n",
    "   else:\n",
    "    odd_id += 1\n",
    "\n",
    "  even=np.zeros(even_id,dtype=int)\n",
    "  odd=np.zeros(odd_id,dtype=int)\n",
    "\n",
    "  even_id=0\n",
    "  odd_id=0\n",
    "  for i in range(len(arr)):\n",
    "    if arr[i]%2==0:\n",
    "      even[even_id]=arr[i]\n",
    "      even_id+=1\n",
    "    else:\n",
    "      odd[odd_id]=arr[i]\n",
    "      odd_id+=1\n",
    "  even_id=0\n",
    "  odd_id=0\n",
    "  if arr[0]%2==0:\n",
    "   for i in range(0,len(new),2):\n",
    "    new[i]=even[even_id]\n",
    "    even_id += 1\n",
    "   for i in range(1,len(new),2):\n",
    "    new[i]=odd[odd_id]\n",
    "    odd_id+=1\n",
    "  else:\n",
    "    for i in range(1,len(new),2):\n",
    "      new[i]=even[even_id]\n",
    "      even_id+=1\n",
    "    for i in range(0,len(new),2):\n",
    "      new[i]=odd[odd_id]\n",
    "      odd_id+=1\n",
    "  return new\n",
    "\n",
    "print(\"///  Test 06: Odd Even Wave  ///\")\n",
    "arr = np.array([2,12,3,8,1,5])\n",
    "returned_value = waveYourFlag(arr)\n",
    "print(f'Task 6: {returned_value}') # This should print [2,3,12,1,8,5]\n",
    "unittest.output_test(returned_value, np.array([2,3,12,1,8,5]))\n",
    "\n",
    "arr = np.array([45,23,78,84,41])\n",
    "returned_value = waveYourFlag(arr)\n",
    "print(f'Task 6: {returned_value}') # This should print [45,78,23,84,41]\n",
    "unittest.output_test(returned_value, np.array([45,78,23,84,41]))"
   ]
  },
  {
   "cell_type": "code",
   "execution_count": 8,
   "metadata": {},
   "outputs": [
    {
     "name": "stdout",
     "output_type": "stream",
     "text": [
      "///  Test 06: Odd Even Wave  ///\n",
      "Task 6: [ 2  3 12  1  8  5]\n",
      "Accepted\n",
      "Task 6: [45 78 23 84 41]\n",
      "Accepted\n"
     ]
    }
   ],
   "source": [
    "def waveYourFlag(arr):\n",
    "  even=False\n",
    "  odd=False\n",
    "\n",
    "  if arr[0]%2==0:\n",
    "    even=True\n",
    "  else:\n",
    "    odd= True\n",
    "\n",
    "  for i in range(1,len(arr)):\n",
    "    if (even):\n",
    "      if arr[i]%2==0:\n",
    "        for j in range(i,len(arr)):\n",
    "          if arr[j]%2!=0:\n",
    "           temp=arr[j]\n",
    "           arr[j]=arr[i]\n",
    "           arr[i]=temp\n",
    "           break\n",
    "      odd=True\n",
    "      even=False\n",
    "\n",
    "    elif(odd):\n",
    "      if arr[i]%2!=0:\n",
    "        for j in range(i,len(arr)):\n",
    "          if arr[j]%2==0:\n",
    "            temp=arr[j]\n",
    "            arr[j]=arr[i]\n",
    "            arr[i]=temp\n",
    "            break\n",
    "      odd=False\n",
    "      even=True\n",
    "  return arr\n",
    "\n",
    "print(\"///  Test 06: Odd Even Wave  ///\")\n",
    "arr = np.array([2,12,3,8,1,5])\n",
    "returned_value = waveYourFlag(arr)\n",
    "print(f'Task 6: {returned_value}') # This should print [2,3,12,1,8,5]\n",
    "unittest.output_test(returned_value, np.array([2,3,12,1,8,5]))\n",
    "\n",
    "arr = np.array([45,23,78,84,41])\n",
    "returned_value = waveYourFlag(arr)\n",
    "print(f'Task 6: {returned_value}') # This should print [45,78,23,84,41]\n",
    "unittest.output_test(returned_value, np.array([45,78,23,84,41]))"
   ]
  }
 ],
 "metadata": {
  "kernelspec": {
   "display_name": "base",
   "language": "python",
   "name": "python3"
  },
  "language_info": {
   "codemirror_mode": {
    "name": "ipython",
    "version": 3
   },
   "file_extension": ".py",
   "mimetype": "text/x-python",
   "name": "python",
   "nbconvert_exporter": "python",
   "pygments_lexer": "ipython3",
   "version": "3.9.12"
  },
  "orig_nbformat": 4
 },
 "nbformat": 4,
 "nbformat_minor": 2
}
